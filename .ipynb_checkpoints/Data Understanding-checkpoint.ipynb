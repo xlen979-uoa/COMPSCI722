{
 "cells": [
  {
   "cell_type": "code",
   "execution_count": 1,
   "id": "5f895b4b",
   "metadata": {},
   "outputs": [
    {
     "name": "stderr",
     "output_type": "stream",
     "text": [
      "WARNING: An illegal reflective access operation has occurred\n",
      "WARNING: Illegal reflective access by org.apache.spark.unsafe.Platform (file:/home/ubuntu/spark-3.2.1-bin-hadoop2.7/jars/spark-unsafe_2.12-3.2.1.jar) to constructor java.nio.DirectByteBuffer(long,int)\n",
      "WARNING: Please consider reporting this to the maintainers of org.apache.spark.unsafe.Platform\n",
      "WARNING: Use --illegal-access=warn to enable warnings of further illegal reflective access operations\n",
      "WARNING: All illegal access operations will be denied in a future release\n",
      "Using Spark's default log4j profile: org/apache/spark/log4j-defaults.properties\n",
      "Setting default log level to \"WARN\".\n",
      "To adjust logging level use sc.setLogLevel(newLevel). For SparkR, use setLogLevel(newLevel).\n",
      "23/10/11 03:42:17 WARN NativeCodeLoader: Unable to load native-hadoop library for your platform... using builtin-java classes where applicable\n"
     ]
    }
   ],
   "source": [
    "import findspark\n",
    "findspark.init('/home/ubuntu/spark-3.2.1-bin-hadoop2.7')\n",
    "import pyspark\n",
    "from pyspark.sql import SparkSession\n",
    "spark = SparkSession.builder.appName('DataUnderstanding').getOrCreate()"
   ]
  },
  {
   "cell_type": "code",
   "execution_count": 2,
   "id": "20f69ed3",
   "metadata": {},
   "outputs": [
    {
     "name": "stderr",
     "output_type": "stream",
     "text": [
      "23/10/11 03:42:35 WARN package: Truncated the string representation of a plan since it was too large. This behavior can be adjusted by setting 'spark.sql.debug.maxToStringFields'.\n"
     ]
    },
    {
     "name": "stdout",
     "output_type": "stream",
     "text": [
      "+-------+-------+--------+-------------------+-------------------+------------------+-----------+-------+-------+------------+--------------------+------------------+-----------+-----------+-----+----------+-------+----------+------------+-------------------+--------------+-------------+-----------+------------+--------------+--------------+---------------+-----------------+-----------------+-------+-----+--------+--------+--------+-------+-------+----------+-------+-----+---------------+--------------+------------+--------------+--------------+-----------------+---------------------+\n",
      "|     ID| Source|Severity|         Start_Time|           End_Time|         Start_Lat|  Start_Lng|End_Lat|End_Lng|Distance(mi)|         Description|            Street|       City|     County|State|   Zipcode|Country|  Timezone|Airport_Code|  Weather_Timestamp|Temperature(F)|Wind_Chill(F)|Humidity(%)|Pressure(in)|Visibility(mi)|Wind_Direction|Wind_Speed(mph)|Precipitation(in)|Weather_Condition|Amenity| Bump|Crossing|Give_Way|Junction|No_Exit|Railway|Roundabout|Station| Stop|Traffic_Calming|Traffic_Signal|Turning_Loop|Sunrise_Sunset|Civil_Twilight|Nautical_Twilight|Astronomical_Twilight|\n",
      "+-------+-------+--------+-------------------+-------------------+------------------+-----------+-------+-------+------------+--------------------+------------------+-----------+-----------+-----+----------+-------+----------+------------+-------------------+--------------+-------------+-----------+------------+--------------+--------------+---------------+-----------------+-----------------+-------+-----+--------+--------+--------+-------+-------+----------+-------+-----+---------------+--------------+------------+--------------+--------------+-----------------+---------------------+\n",
      "|A-42867|Source2|       2|2016-06-21 10:46:30|2016-06-21 11:27:00|         34.078926| -118.28904|   null|   null|         0.0|Right hand should...|          US-101 N|Los Angeles|Los Angeles|   CA|     90004|     US|US/Pacific|        KCQT|2016-06-21 10:47:00|          82.9|         null|       47.0|       29.95|          10.0|      Variable|            4.6|             null|            Clear|  false|false|   false|   false|    true|  false|  false|     false|  false|false|          false|         false|       false|           Day|           Day|              Day|                  Day|\n",
      "|A-42868|Source2|       3|2016-06-21 10:49:21|2016-06-21 11:34:21|         34.091179|-118.239471|   null|   null|         0.0|Accident on I-5 N...|Golden State Fwy S|Los Angeles|Los Angeles|   CA|     90031|     US|US/Pacific|        KCQT|2016-06-21 10:47:00|          82.9|         null|       47.0|       29.95|          10.0|      Variable|            4.6|             null|            Clear|  false|false|   false|   false|   false|  false|  false|     false|  false|false|          false|         false|       false|           Day|           Day|              Day|                  Day|\n",
      "|A-42882|Source2|       3|2016-06-21 10:51:45|2016-06-21 11:36:45|         34.037239|-118.309074|   null|   null|         0.0|Accident on I-10 ...|            I-10 W|Los Angeles|Los Angeles|   CA|     90018|     US|US/Pacific|        KCQT|2016-06-21 10:47:00|          82.9|         null|       47.0|       29.95|          10.0|      Variable|            4.6|             null|            Clear|  false|false|   false|   false|   false|  false|  false|     false|   true|false|          false|         false|       false|           Day|           Day|              Day|                  Day|\n",
      "|A-42884|Source2|       3|2016-06-21 10:56:24|2016-06-21 11:34:00|         34.027458| -118.27449|   null|   null|         0.0|Accident on I-110...|      Harbor Fwy N|Los Angeles|Los Angeles|   CA|     90007|     US|US/Pacific|        KCQT|2016-06-21 10:47:00|          82.9|         null|       47.0|       29.95|          10.0|      Variable|            4.6|             null|            Clear|  false|false|   false|   false|   false|  false|  false|     false|  false|false|          false|         false|       false|           Day|           Day|              Day|                  Day|\n",
      "|A-42899|Source2|       3|2016-06-21 11:30:46|2016-06-21 12:00:46|         33.947544|-118.279434|   null|   null|         0.0|Right hand should...|      Harbor Fwy N|Los Angeles|Los Angeles|   CA|     90003|     US|US/Pacific|        KHHR|2016-06-21 11:53:00|          80.1|         null|       52.0|       29.96|          10.0|           ESE|            9.2|             null|            Clear|  false|false|   false|   false|   false|  false|  false|     false|  false|false|          false|         false|       false|           Day|           Day|              Day|                  Day|\n",
      "|A-42913|Source2|       3|2016-06-21 11:59:09|2016-06-21 12:44:09|34.034721000000005|-118.344635|   null|   null|         0.0|#4 &amp; #5 lane ...|            I-10 W|Los Angeles|Los Angeles|   CA|     90016|     US|US/Pacific|        KSMO|2016-06-21 11:51:00|          79.0|         null|       58.0|       29.96|          10.0|            SW|            9.2|             null|            Clear|  false|false|   false|   false|   false|  false|  false|     false|  false|false|          false|         false|       false|           Day|           Day|              Day|                  Day|\n",
      "|A-42915|Source2|       3|2016-06-21 12:00:06|2016-06-21 12:42:00|         33.947437|-118.279312|   null|   null|         0.0|Slow traffic and ...|      Harbor Fwy N|Los Angeles|Los Angeles|   CA|     90003|     US|US/Pacific|        KHHR|2016-06-21 11:53:00|          80.1|         null|       52.0|       29.96|          10.0|           ESE|            9.2|             null|            Clear|  false|false|   false|   false|   false|  false|  false|     false|  false|false|          false|          true|       false|           Day|           Day|              Day|                  Day|\n",
      "|A-42916|Source2|       2|2016-06-21 12:12:04|2016-06-21 12:57:04|34.069759000000005|-118.236176|   null|   null|         0.0|Right hand should...|    Pasadena Fwy S|Los Angeles|Los Angeles|   CA|     90012|     US|US/Pacific|        KCQT|2016-06-21 11:47:00|          88.0|         null|       40.0|       29.94|          10.0|          Calm|           null|             null|            Clear|  false|false|   false|   false|    true|  false|  false|     false|  false|false|          false|         false|       false|           Day|           Day|              Day|                  Day|\n",
      "|A-42917|Source2|       2|2016-06-21 12:11:43|2016-06-21 12:56:43|         33.957775|-118.231056|   null|   null|         0.0|Accident on CA-42...|    Firestone Blvd|Los Angeles|Los Angeles|   CA|90002-1546|     US|US/Pacific|        KHHR|2016-06-21 11:53:00|          80.1|         null|       52.0|       29.96|          10.0|           ESE|            9.2|             null|            Clear|  false|false|    true|   false|   false|  false|  false|     false|  false|false|          false|          true|       false|           Day|           Day|              Day|                  Day|\n",
      "|A-42925|Source2|       3|2016-06-21 12:18:26|2016-06-21 13:01:00|         33.928162|-118.238976|   null|   null|         0.0|Right hand should...|           I-105 E|Los Angeles|Los Angeles|   CA|     90059|     US|US/Pacific|        KHHR|2016-06-21 11:53:00|          80.1|         null|       52.0|       29.96|          10.0|           ESE|            9.2|             null|            Clear|  false|false|   false|   false|   false|  false|  false|     false|  false|false|          false|         false|       false|           Day|           Day|              Day|                  Day|\n",
      "|A-42926|Source2|       2|2016-06-21 12:20:43|2016-06-21 13:04:00|         34.078476|  -118.2286|   null|   null|         0.0|Right hand should...|  Arroyo Seco Pkwy|Los Angeles|Los Angeles|   CA|     90012|     US|US/Pacific|        KCQT|2016-06-21 12:47:00|          84.0|         null|       49.0|       29.94|          10.0|      Variable|            3.5|             null|            Clear|  false|false|   false|   false|   false|  false|  false|     false|  false|false|          false|         false|       false|           Day|           Day|              Day|                  Day|\n",
      "|A-42940|Source2|       3|2016-06-21 12:42:25|2016-06-21 13:27:25|34.072959999999995|-118.219391|   null|   null|         0.0|Accident on I-5 S...|Golden State Fwy S|Los Angeles|Los Angeles|   CA|     90031|     US|US/Pacific|        KCQT|2016-06-21 12:47:00|          84.0|         null|       49.0|       29.94|          10.0|      Variable|            3.5|             null|            Clear|  false|false|   false|   false|   false|  false|  false|     false|  false|false|          false|         false|       false|           Day|           Day|              Day|                  Day|\n",
      "|A-42941|Source2|       2|2016-06-21 13:12:38|2016-06-21 13:57:38|         34.056087|-118.255882|   null|   null|         0.0|Gore point obstru...|          CA-110 N|Los Angeles|Los Angeles|   CA|     90012|     US|US/Pacific|        KCQT|2016-06-21 12:47:00|          84.0|         null|       49.0|       29.94|          10.0|      Variable|            3.5|             null|            Clear|  false|false|   false|   false|   false|  false|  false|     false|  false|false|          false|         false|       false|           Day|           Day|              Day|                  Day|\n",
      "|A-42942|Source2|       2|2016-06-21 13:07:43|2016-06-21 13:52:43|         34.076012|-118.231575|   null|   null|         0.0|Accident on CA-11...|    Pasadena Fwy S|Los Angeles|Los Angeles|   CA|     90012|     US|US/Pacific|        KCQT|2016-06-21 12:47:00|          84.0|         null|       49.0|       29.94|          10.0|      Variable|            3.5|             null|            Clear|  false|false|   false|   false|   false|  false|  false|     false|  false|false|          false|         false|       false|           Day|           Day|              Day|                  Day|\n",
      "|A-42945|Source2|       3|2016-06-21 13:17:18|2016-06-21 14:02:18|         34.087738|-118.475189|   null|   null|         0.0|Accident on I-405...|           I-405 N|Los Angeles|Los Angeles|   CA|     90049|     US|US/Pacific|        KSMO|2016-06-21 12:51:00|          79.0|         null|       58.0|       29.96|          10.0|            SW|            8.1|             null|            Clear|  false|false|   false|   false|   false|  false|  false|     false|  false|false|          false|         false|       false|           Day|           Day|              Day|                  Day|\n",
      "|A-42947|Source2|       2|2016-06-21 13:18:58|2016-06-21 14:03:58|           34.0509|-118.261429|   null|   null|         0.0|Accident on CA-11...|          CA-110 N|Los Angeles|Los Angeles|   CA|     90017|     US|US/Pacific|        KCQT|2016-06-21 13:47:00|          84.0|         null|       47.0|       29.94|          10.0|           SSE|            6.9|             null|            Clear|  false|false|   false|   false|    true|  false|  false|     false|  false|false|          false|         false|       false|           Day|           Day|              Day|                  Day|\n",
      "|A-42956|Source2|       2|2016-06-21 13:41:58|2016-06-21 14:26:58|          33.92371|-118.269554|   null|   null|         0.0|Accident on San P...|        E 120th St|Los Angeles|Los Angeles|   CA|90061-2829|     US|US/Pacific|        KHHR|2016-06-21 13:53:00|          79.0|         null|       54.0|       29.96|          10.0|           SSE|           11.5|             null|            Clear|  false|false|   false|   false|   false|  false|  false|     false|  false|false|          false|          true|       false|           Day|           Day|              Day|                  Day|\n",
      "|A-42959|Source2|       3|2016-06-21 13:44:48|2016-06-21 14:29:48|33.928940000000004|-118.280708|   null|   null|         0.0|One lane blocked ...|           I-105 W|Los Angeles|Los Angeles|   CA|     90061|     US|US/Pacific|        KHHR|2016-06-21 13:53:00|          79.0|         null|       54.0|       29.96|          10.0|           SSE|           11.5|             null|            Clear|  false|false|   false|   false|   false|  false|  false|     false|  false|false|          false|         false|       false|           Day|           Day|              Day|                  Day|\n",
      "|A-42963|Source2|       3|2016-06-21 13:52:57|2016-06-21 14:52:57|         33.927593|-118.265213|   null|   null|         0.0|Accident on I-105...|       Avalon Blvd|Los Angeles|Los Angeles|   CA|     90061|     US|US/Pacific|        KHHR|2016-06-21 13:53:00|          79.0|         null|       54.0|       29.96|          10.0|           SSE|           11.5|             null|            Clear|  false|false|   false|   false|   false|  false|   true|     false|   true|false|          false|         false|       false|           Day|           Day|              Day|                  Day|\n",
      "|A-42964|Source2|       2|2016-06-21 13:56:35|2016-06-21 14:41:35|         34.036362|-118.167702|   null|   null|         0.0|Accident on CA-60...|      Pomona Fwy W|Los Angeles|Los Angeles|   CA|     90022|     US|US/Pacific|        KCQT|2016-06-21 13:47:00|          84.0|         null|       47.0|       29.94|          10.0|           SSE|            6.9|             null|            Clear|  false|false|   false|   false|   false|  false|  false|     false|  false|false|          false|         false|       false|           Day|           Day|              Day|                  Day|\n",
      "+-------+-------+--------+-------------------+-------------------+------------------+-----------+-------+-------+------------+--------------------+------------------+-----------+-----------+-----+----------+-------+----------+------------+-------------------+--------------+-------------+-----------+------------+--------------+--------------+---------------+-----------------+-----------------+-------+-----+--------+--------+--------+-------+-------+----------+-------+-----+---------------+--------------+------------+--------------+--------------+-----------------+---------------------+\n",
      "only showing top 20 rows\n",
      "\n"
     ]
    }
   ],
   "source": [
    "# Importing data which has a header. Schema is automatically configured.\n",
    "df_la_accidents = spark.read.csv('LA_Accidents.csv', header=True, inferSchema=True)\n",
    "\n",
    "# Let's see the data. You'll notice nulls.\n",
    "df_la_accidents.show()"
   ]
  },
  {
   "cell_type": "code",
   "execution_count": 3,
   "id": "64c9e7db",
   "metadata": {},
   "outputs": [
    {
     "data": {
      "text/plain": [
       "['ID',\n",
       " 'Source',\n",
       " 'Severity',\n",
       " 'Start_Time',\n",
       " 'End_Time',\n",
       " 'Start_Lat',\n",
       " 'Start_Lng',\n",
       " 'End_Lat',\n",
       " 'End_Lng',\n",
       " 'Distance(mi)',\n",
       " 'Description',\n",
       " 'Street',\n",
       " 'City',\n",
       " 'County',\n",
       " 'State',\n",
       " 'Zipcode',\n",
       " 'Country',\n",
       " 'Timezone',\n",
       " 'Airport_Code',\n",
       " 'Weather_Timestamp',\n",
       " 'Temperature(F)',\n",
       " 'Wind_Chill(F)',\n",
       " 'Humidity(%)',\n",
       " 'Pressure(in)',\n",
       " 'Visibility(mi)',\n",
       " 'Wind_Direction',\n",
       " 'Wind_Speed(mph)',\n",
       " 'Precipitation(in)',\n",
       " 'Weather_Condition',\n",
       " 'Amenity',\n",
       " 'Bump',\n",
       " 'Crossing',\n",
       " 'Give_Way',\n",
       " 'Junction',\n",
       " 'No_Exit',\n",
       " 'Railway',\n",
       " 'Roundabout',\n",
       " 'Station',\n",
       " 'Stop',\n",
       " 'Traffic_Calming',\n",
       " 'Traffic_Signal',\n",
       " 'Turning_Loop',\n",
       " 'Sunrise_Sunset',\n",
       " 'Civil_Twilight',\n",
       " 'Nautical_Twilight',\n",
       " 'Astronomical_Twilight']"
      ]
     },
     "execution_count": 3,
     "metadata": {},
     "output_type": "execute_result"
    }
   ],
   "source": [
    "df_la_accidents.columns"
   ]
  },
  {
   "cell_type": "code",
   "execution_count": 4,
   "id": "d107d9e0",
   "metadata": {},
   "outputs": [
    {
     "name": "stdout",
     "output_type": "stream",
     "text": [
      "+-------+-------+--------+-------------------+-------------------+------------------+-----------+-------+-------+------------+\n",
      "|     ID| Source|Severity|         Start_Time|           End_Time|         Start_Lat|  Start_Lng|End_Lat|End_Lng|Distance(mi)|\n",
      "+-------+-------+--------+-------------------+-------------------+------------------+-----------+-------+-------+------------+\n",
      "|A-42867|Source2|       2|2016-06-21 10:46:30|2016-06-21 11:27:00|         34.078926| -118.28904|   null|   null|         0.0|\n",
      "|A-42868|Source2|       3|2016-06-21 10:49:21|2016-06-21 11:34:21|         34.091179|-118.239471|   null|   null|         0.0|\n",
      "|A-42882|Source2|       3|2016-06-21 10:51:45|2016-06-21 11:36:45|         34.037239|-118.309074|   null|   null|         0.0|\n",
      "|A-42884|Source2|       3|2016-06-21 10:56:24|2016-06-21 11:34:00|         34.027458| -118.27449|   null|   null|         0.0|\n",
      "|A-42899|Source2|       3|2016-06-21 11:30:46|2016-06-21 12:00:46|         33.947544|-118.279434|   null|   null|         0.0|\n",
      "|A-42913|Source2|       3|2016-06-21 11:59:09|2016-06-21 12:44:09|34.034721000000005|-118.344635|   null|   null|         0.0|\n",
      "|A-42915|Source2|       3|2016-06-21 12:00:06|2016-06-21 12:42:00|         33.947437|-118.279312|   null|   null|         0.0|\n",
      "|A-42916|Source2|       2|2016-06-21 12:12:04|2016-06-21 12:57:04|34.069759000000005|-118.236176|   null|   null|         0.0|\n",
      "|A-42917|Source2|       2|2016-06-21 12:11:43|2016-06-21 12:56:43|         33.957775|-118.231056|   null|   null|         0.0|\n",
      "|A-42925|Source2|       3|2016-06-21 12:18:26|2016-06-21 13:01:00|         33.928162|-118.238976|   null|   null|         0.0|\n",
      "|A-42926|Source2|       2|2016-06-21 12:20:43|2016-06-21 13:04:00|         34.078476|  -118.2286|   null|   null|         0.0|\n",
      "|A-42940|Source2|       3|2016-06-21 12:42:25|2016-06-21 13:27:25|34.072959999999995|-118.219391|   null|   null|         0.0|\n",
      "|A-42941|Source2|       2|2016-06-21 13:12:38|2016-06-21 13:57:38|         34.056087|-118.255882|   null|   null|         0.0|\n",
      "|A-42942|Source2|       2|2016-06-21 13:07:43|2016-06-21 13:52:43|         34.076012|-118.231575|   null|   null|         0.0|\n",
      "|A-42945|Source2|       3|2016-06-21 13:17:18|2016-06-21 14:02:18|         34.087738|-118.475189|   null|   null|         0.0|\n",
      "|A-42947|Source2|       2|2016-06-21 13:18:58|2016-06-21 14:03:58|           34.0509|-118.261429|   null|   null|         0.0|\n",
      "|A-42956|Source2|       2|2016-06-21 13:41:58|2016-06-21 14:26:58|          33.92371|-118.269554|   null|   null|         0.0|\n",
      "|A-42959|Source2|       3|2016-06-21 13:44:48|2016-06-21 14:29:48|33.928940000000004|-118.280708|   null|   null|         0.0|\n",
      "|A-42963|Source2|       3|2016-06-21 13:52:57|2016-06-21 14:52:57|         33.927593|-118.265213|   null|   null|         0.0|\n",
      "|A-42964|Source2|       2|2016-06-21 13:56:35|2016-06-21 14:41:35|         34.036362|-118.167702|   null|   null|         0.0|\n",
      "+-------+-------+--------+-------------------+-------------------+------------------+-----------+-------+-------+------------+\n",
      "only showing top 20 rows\n",
      "\n"
     ]
    }
   ],
   "source": [
    "df_la_accidents.select('ID',\n",
    " 'Source',\n",
    " 'Severity',\n",
    " 'Start_Time',\n",
    " 'End_Time',\n",
    " 'Start_Lat',\n",
    " 'Start_Lng',\n",
    " 'End_Lat',\n",
    " 'End_Lng',\n",
    " 'Distance(mi)',\n",
    " ).show()"
   ]
  },
  {
   "cell_type": "code",
   "execution_count": 5,
   "id": "d712e698",
   "metadata": {},
   "outputs": [
    {
     "name": "stdout",
     "output_type": "stream",
     "text": [
      "+--------------------+------------------+-----------+-----------+-----+----------+-------+----------+------------+\n",
      "|         Description|            Street|       City|     County|State|   Zipcode|Country|  Timezone|Airport_Code|\n",
      "+--------------------+------------------+-----------+-----------+-----+----------+-------+----------+------------+\n",
      "|Right hand should...|          US-101 N|Los Angeles|Los Angeles|   CA|     90004|     US|US/Pacific|        KCQT|\n",
      "|Accident on I-5 N...|Golden State Fwy S|Los Angeles|Los Angeles|   CA|     90031|     US|US/Pacific|        KCQT|\n",
      "|Accident on I-10 ...|            I-10 W|Los Angeles|Los Angeles|   CA|     90018|     US|US/Pacific|        KCQT|\n",
      "|Accident on I-110...|      Harbor Fwy N|Los Angeles|Los Angeles|   CA|     90007|     US|US/Pacific|        KCQT|\n",
      "|Right hand should...|      Harbor Fwy N|Los Angeles|Los Angeles|   CA|     90003|     US|US/Pacific|        KHHR|\n",
      "|#4 &amp; #5 lane ...|            I-10 W|Los Angeles|Los Angeles|   CA|     90016|     US|US/Pacific|        KSMO|\n",
      "|Slow traffic and ...|      Harbor Fwy N|Los Angeles|Los Angeles|   CA|     90003|     US|US/Pacific|        KHHR|\n",
      "|Right hand should...|    Pasadena Fwy S|Los Angeles|Los Angeles|   CA|     90012|     US|US/Pacific|        KCQT|\n",
      "|Accident on CA-42...|    Firestone Blvd|Los Angeles|Los Angeles|   CA|90002-1546|     US|US/Pacific|        KHHR|\n",
      "|Right hand should...|           I-105 E|Los Angeles|Los Angeles|   CA|     90059|     US|US/Pacific|        KHHR|\n",
      "|Right hand should...|  Arroyo Seco Pkwy|Los Angeles|Los Angeles|   CA|     90012|     US|US/Pacific|        KCQT|\n",
      "|Accident on I-5 S...|Golden State Fwy S|Los Angeles|Los Angeles|   CA|     90031|     US|US/Pacific|        KCQT|\n",
      "|Gore point obstru...|          CA-110 N|Los Angeles|Los Angeles|   CA|     90012|     US|US/Pacific|        KCQT|\n",
      "|Accident on CA-11...|    Pasadena Fwy S|Los Angeles|Los Angeles|   CA|     90012|     US|US/Pacific|        KCQT|\n",
      "|Accident on I-405...|           I-405 N|Los Angeles|Los Angeles|   CA|     90049|     US|US/Pacific|        KSMO|\n",
      "|Accident on CA-11...|          CA-110 N|Los Angeles|Los Angeles|   CA|     90017|     US|US/Pacific|        KCQT|\n",
      "|Accident on San P...|        E 120th St|Los Angeles|Los Angeles|   CA|90061-2829|     US|US/Pacific|        KHHR|\n",
      "|One lane blocked ...|           I-105 W|Los Angeles|Los Angeles|   CA|     90061|     US|US/Pacific|        KHHR|\n",
      "|Accident on I-105...|       Avalon Blvd|Los Angeles|Los Angeles|   CA|     90061|     US|US/Pacific|        KHHR|\n",
      "|Accident on CA-60...|      Pomona Fwy W|Los Angeles|Los Angeles|   CA|     90022|     US|US/Pacific|        KCQT|\n",
      "+--------------------+------------------+-----------+-----------+-----+----------+-------+----------+------------+\n",
      "only showing top 20 rows\n",
      "\n"
     ]
    }
   ],
   "source": [
    "df_la_accidents.select('Description',\n",
    " 'Street',\n",
    " 'City',\n",
    " 'County',\n",
    " 'State',\n",
    " 'Zipcode',\n",
    " 'Country',\n",
    " 'Timezone',\n",
    " 'Airport_Code').show()"
   ]
  },
  {
   "cell_type": "code",
   "execution_count": 6,
   "id": "acd7681f",
   "metadata": {},
   "outputs": [
    {
     "name": "stdout",
     "output_type": "stream",
     "text": [
      "+-------------------+--------------+-------------+-----------+------------+--------------+--------------+---------------+\n",
      "|  Weather_Timestamp|Temperature(F)|Wind_Chill(F)|Humidity(%)|Pressure(in)|Visibility(mi)|Wind_Direction|Wind_Speed(mph)|\n",
      "+-------------------+--------------+-------------+-----------+------------+--------------+--------------+---------------+\n",
      "|2016-06-21 10:47:00|          82.9|         null|       47.0|       29.95|          10.0|      Variable|            4.6|\n",
      "|2016-06-21 10:47:00|          82.9|         null|       47.0|       29.95|          10.0|      Variable|            4.6|\n",
      "|2016-06-21 10:47:00|          82.9|         null|       47.0|       29.95|          10.0|      Variable|            4.6|\n",
      "|2016-06-21 10:47:00|          82.9|         null|       47.0|       29.95|          10.0|      Variable|            4.6|\n",
      "|2016-06-21 11:53:00|          80.1|         null|       52.0|       29.96|          10.0|           ESE|            9.2|\n",
      "|2016-06-21 11:51:00|          79.0|         null|       58.0|       29.96|          10.0|            SW|            9.2|\n",
      "|2016-06-21 11:53:00|          80.1|         null|       52.0|       29.96|          10.0|           ESE|            9.2|\n",
      "|2016-06-21 11:47:00|          88.0|         null|       40.0|       29.94|          10.0|          Calm|           null|\n",
      "|2016-06-21 11:53:00|          80.1|         null|       52.0|       29.96|          10.0|           ESE|            9.2|\n",
      "|2016-06-21 11:53:00|          80.1|         null|       52.0|       29.96|          10.0|           ESE|            9.2|\n",
      "|2016-06-21 12:47:00|          84.0|         null|       49.0|       29.94|          10.0|      Variable|            3.5|\n",
      "|2016-06-21 12:47:00|          84.0|         null|       49.0|       29.94|          10.0|      Variable|            3.5|\n",
      "|2016-06-21 12:47:00|          84.0|         null|       49.0|       29.94|          10.0|      Variable|            3.5|\n",
      "|2016-06-21 12:47:00|          84.0|         null|       49.0|       29.94|          10.0|      Variable|            3.5|\n",
      "|2016-06-21 12:51:00|          79.0|         null|       58.0|       29.96|          10.0|            SW|            8.1|\n",
      "|2016-06-21 13:47:00|          84.0|         null|       47.0|       29.94|          10.0|           SSE|            6.9|\n",
      "|2016-06-21 13:53:00|          79.0|         null|       54.0|       29.96|          10.0|           SSE|           11.5|\n",
      "|2016-06-21 13:53:00|          79.0|         null|       54.0|       29.96|          10.0|           SSE|           11.5|\n",
      "|2016-06-21 13:53:00|          79.0|         null|       54.0|       29.96|          10.0|           SSE|           11.5|\n",
      "|2016-06-21 13:47:00|          84.0|         null|       47.0|       29.94|          10.0|           SSE|            6.9|\n",
      "+-------------------+--------------+-------------+-----------+------------+--------------+--------------+---------------+\n",
      "only showing top 20 rows\n",
      "\n"
     ]
    }
   ],
   "source": [
    "df_la_accidents.select('Weather_Timestamp',\n",
    " 'Temperature(F)',\n",
    " 'Wind_Chill(F)',\n",
    " 'Humidity(%)',\n",
    " 'Pressure(in)',\n",
    " 'Visibility(mi)',\n",
    " 'Wind_Direction',\n",
    " 'Wind_Speed(mph)',\n",
    " ).show()"
   ]
  },
  {
   "cell_type": "code",
   "execution_count": 7,
   "id": "5793766e",
   "metadata": {},
   "outputs": [
    {
     "name": "stdout",
     "output_type": "stream",
     "text": [
      "+-----------------+-----------------+-------+-----+--------+--------+--------+-------+-------+----------+-------+-----+\n",
      "|Precipitation(in)|Weather_Condition|Amenity| Bump|Crossing|Give_Way|Junction|No_Exit|Railway|Roundabout|Station| Stop|\n",
      "+-----------------+-----------------+-------+-----+--------+--------+--------+-------+-------+----------+-------+-----+\n",
      "|             null|            Clear|  false|false|   false|   false|    true|  false|  false|     false|  false|false|\n",
      "|             null|            Clear|  false|false|   false|   false|   false|  false|  false|     false|  false|false|\n",
      "|             null|            Clear|  false|false|   false|   false|   false|  false|  false|     false|   true|false|\n",
      "|             null|            Clear|  false|false|   false|   false|   false|  false|  false|     false|  false|false|\n",
      "|             null|            Clear|  false|false|   false|   false|   false|  false|  false|     false|  false|false|\n",
      "|             null|            Clear|  false|false|   false|   false|   false|  false|  false|     false|  false|false|\n",
      "|             null|            Clear|  false|false|   false|   false|   false|  false|  false|     false|  false|false|\n",
      "|             null|            Clear|  false|false|   false|   false|    true|  false|  false|     false|  false|false|\n",
      "|             null|            Clear|  false|false|    true|   false|   false|  false|  false|     false|  false|false|\n",
      "|             null|            Clear|  false|false|   false|   false|   false|  false|  false|     false|  false|false|\n",
      "|             null|            Clear|  false|false|   false|   false|   false|  false|  false|     false|  false|false|\n",
      "|             null|            Clear|  false|false|   false|   false|   false|  false|  false|     false|  false|false|\n",
      "|             null|            Clear|  false|false|   false|   false|   false|  false|  false|     false|  false|false|\n",
      "|             null|            Clear|  false|false|   false|   false|   false|  false|  false|     false|  false|false|\n",
      "|             null|            Clear|  false|false|   false|   false|   false|  false|  false|     false|  false|false|\n",
      "|             null|            Clear|  false|false|   false|   false|    true|  false|  false|     false|  false|false|\n",
      "|             null|            Clear|  false|false|   false|   false|   false|  false|  false|     false|  false|false|\n",
      "|             null|            Clear|  false|false|   false|   false|   false|  false|  false|     false|  false|false|\n",
      "|             null|            Clear|  false|false|   false|   false|   false|  false|   true|     false|   true|false|\n",
      "|             null|            Clear|  false|false|   false|   false|   false|  false|  false|     false|  false|false|\n",
      "+-----------------+-----------------+-------+-----+--------+--------+--------+-------+-------+----------+-------+-----+\n",
      "only showing top 20 rows\n",
      "\n"
     ]
    }
   ],
   "source": [
    "df_la_accidents.select('Precipitation(in)',\n",
    " 'Weather_Condition',\n",
    " 'Amenity',\n",
    " 'Bump',\n",
    " 'Crossing',\n",
    " 'Give_Way',\n",
    " 'Junction',\n",
    " 'No_Exit',\n",
    " 'Railway',\n",
    " 'Roundabout',\n",
    " 'Station',\n",
    " 'Stop',\n",
    " ).show()"
   ]
  },
  {
   "cell_type": "code",
   "execution_count": 8,
   "id": "1cbb9e46",
   "metadata": {},
   "outputs": [
    {
     "name": "stdout",
     "output_type": "stream",
     "text": [
      "+---------------+--------------+------------+--------------+--------------+-----------------+---------------------+\n",
      "|Traffic_Calming|Traffic_Signal|Turning_Loop|Sunrise_Sunset|Civil_Twilight|Nautical_Twilight|Astronomical_Twilight|\n",
      "+---------------+--------------+------------+--------------+--------------+-----------------+---------------------+\n",
      "|          false|         false|       false|           Day|           Day|              Day|                  Day|\n",
      "|          false|         false|       false|           Day|           Day|              Day|                  Day|\n",
      "|          false|         false|       false|           Day|           Day|              Day|                  Day|\n",
      "|          false|         false|       false|           Day|           Day|              Day|                  Day|\n",
      "|          false|         false|       false|           Day|           Day|              Day|                  Day|\n",
      "|          false|         false|       false|           Day|           Day|              Day|                  Day|\n",
      "|          false|          true|       false|           Day|           Day|              Day|                  Day|\n",
      "|          false|         false|       false|           Day|           Day|              Day|                  Day|\n",
      "|          false|          true|       false|           Day|           Day|              Day|                  Day|\n",
      "|          false|         false|       false|           Day|           Day|              Day|                  Day|\n",
      "|          false|         false|       false|           Day|           Day|              Day|                  Day|\n",
      "|          false|         false|       false|           Day|           Day|              Day|                  Day|\n",
      "|          false|         false|       false|           Day|           Day|              Day|                  Day|\n",
      "|          false|         false|       false|           Day|           Day|              Day|                  Day|\n",
      "|          false|         false|       false|           Day|           Day|              Day|                  Day|\n",
      "|          false|         false|       false|           Day|           Day|              Day|                  Day|\n",
      "|          false|          true|       false|           Day|           Day|              Day|                  Day|\n",
      "|          false|         false|       false|           Day|           Day|              Day|                  Day|\n",
      "|          false|         false|       false|           Day|           Day|              Day|                  Day|\n",
      "|          false|         false|       false|           Day|           Day|              Day|                  Day|\n",
      "+---------------+--------------+------------+--------------+--------------+-----------------+---------------------+\n",
      "only showing top 20 rows\n",
      "\n"
     ]
    }
   ],
   "source": [
    "df_la_accidents.select('Traffic_Calming',\n",
    " 'Traffic_Signal',\n",
    " 'Turning_Loop',\n",
    " 'Sunrise_Sunset',\n",
    " 'Civil_Twilight',\n",
    " 'Nautical_Twilight',\n",
    " 'Astronomical_Twilight'\n",
    " ).show()"
   ]
  },
  {
   "cell_type": "code",
   "execution_count": 9,
   "id": "69484be7",
   "metadata": {},
   "outputs": [
    {
     "name": "stdout",
     "output_type": "stream",
     "text": [
      "root\n",
      " |-- ID: string (nullable = true)\n",
      " |-- Source: string (nullable = true)\n",
      " |-- Severity: integer (nullable = true)\n",
      " |-- Start_Time: string (nullable = true)\n",
      " |-- End_Time: string (nullable = true)\n",
      " |-- Start_Lat: double (nullable = true)\n",
      " |-- Start_Lng: double (nullable = true)\n",
      " |-- End_Lat: double (nullable = true)\n",
      " |-- End_Lng: double (nullable = true)\n",
      " |-- Distance(mi): double (nullable = true)\n",
      " |-- Description: string (nullable = true)\n",
      " |-- Street: string (nullable = true)\n",
      " |-- City: string (nullable = true)\n",
      " |-- County: string (nullable = true)\n",
      " |-- State: string (nullable = true)\n",
      " |-- Zipcode: string (nullable = true)\n",
      " |-- Country: string (nullable = true)\n",
      " |-- Timezone: string (nullable = true)\n",
      " |-- Airport_Code: string (nullable = true)\n",
      " |-- Weather_Timestamp: string (nullable = true)\n",
      " |-- Temperature(F): double (nullable = true)\n",
      " |-- Wind_Chill(F): double (nullable = true)\n",
      " |-- Humidity(%): double (nullable = true)\n",
      " |-- Pressure(in): double (nullable = true)\n",
      " |-- Visibility(mi): double (nullable = true)\n",
      " |-- Wind_Direction: string (nullable = true)\n",
      " |-- Wind_Speed(mph): double (nullable = true)\n",
      " |-- Precipitation(in): double (nullable = true)\n",
      " |-- Weather_Condition: string (nullable = true)\n",
      " |-- Amenity: boolean (nullable = true)\n",
      " |-- Bump: boolean (nullable = true)\n",
      " |-- Crossing: boolean (nullable = true)\n",
      " |-- Give_Way: boolean (nullable = true)\n",
      " |-- Junction: boolean (nullable = true)\n",
      " |-- No_Exit: boolean (nullable = true)\n",
      " |-- Railway: boolean (nullable = true)\n",
      " |-- Roundabout: boolean (nullable = true)\n",
      " |-- Station: boolean (nullable = true)\n",
      " |-- Stop: boolean (nullable = true)\n",
      " |-- Traffic_Calming: boolean (nullable = true)\n",
      " |-- Traffic_Signal: boolean (nullable = true)\n",
      " |-- Turning_Loop: boolean (nullable = true)\n",
      " |-- Sunrise_Sunset: string (nullable = true)\n",
      " |-- Civil_Twilight: string (nullable = true)\n",
      " |-- Nautical_Twilight: string (nullable = true)\n",
      " |-- Astronomical_Twilight: string (nullable = true)\n",
      "\n"
     ]
    }
   ],
   "source": [
    "df_la_accidents.printSchema()"
   ]
  },
  {
   "cell_type": "code",
   "execution_count": 10,
   "id": "f9053c86",
   "metadata": {},
   "outputs": [
    {
     "name": "stderr",
     "output_type": "stream",
     "text": [
      "\r",
      "[Stage 8:>                                                          (0 + 1) / 1]\r"
     ]
    },
    {
     "name": "stdout",
     "output_type": "stream",
     "text": [
      "+-------+-------------------+-------------------+-------------------+------------------+------------------+\n",
      "|summary|           Severity|       Distance(mi)|       Pressure(in)|   Wind_Speed(mph)|       Humidity(%)|\n",
      "+-------+-------------------+-------------------+-------------------+------------------+------------------+\n",
      "|  count|             156491|             156491|             155526|            132502|            155311|\n",
      "|   mean| 2.2335469771424554|0.49391356048971535| 29.852869938146554| 3.922570225355004| 60.53426994868361|\n",
      "| stddev|0.44078254527232025| 1.4220547745124537|0.16569115429575532|3.9456881964510258|21.101800365755167|\n",
      "|    min|                  1|                0.0|              28.81|               0.0|               3.0|\n",
      "|    max|                  4|            137.618|               30.5|              36.8|             100.0|\n",
      "+-------+-------------------+-------------------+-------------------+------------------+------------------+\n",
      "\n"
     ]
    },
    {
     "name": "stderr",
     "output_type": "stream",
     "text": [
      "\r",
      "                                                                                \r"
     ]
    }
   ],
   "source": [
    "df_la_accidents.select('Severity',\n",
    "                       'Distance(mi)',\n",
    "                       'Pressure(in)',\n",
    "                       'Wind_Speed(mph)',\n",
    "                       'Humidity(%)',\n",
    " ).describe().show()"
   ]
  },
  {
   "cell_type": "code",
   "execution_count": 11,
   "id": "571ef2f9",
   "metadata": {},
   "outputs": [
    {
     "name": "stderr",
     "output_type": "stream",
     "text": [
      "\r",
      "[Stage 11:>                                                         (0 + 1) / 1]\r"
     ]
    },
    {
     "name": "stdout",
     "output_type": "stream",
     "text": [
      "+-------+--------------------+-------------------+-------------------+-------------------+\n",
      "|summary|           Start_Lat|          Start_Lng|            End_Lat|            End_Lng|\n",
      "+-------+--------------------+-------------------+-------------------+-------------------+\n",
      "|  count|              156491|             156491|              92976|              92976|\n",
      "|   mean|  34.030332390763895|-118.27540449058313|  34.02830972989527|-118.27302750680774|\n",
      "| stddev|0.055829780872852106|0.08078394743985735|0.05674997042149668|0.08250259601862651|\n",
      "|    min|           33.901898|        -118.502785|          33.834274|         -120.39601|\n",
      "|    max|            34.15829|        -118.121279|            34.8654|        -117.830959|\n",
      "+-------+--------------------+-------------------+-------------------+-------------------+\n",
      "\n"
     ]
    },
    {
     "name": "stderr",
     "output_type": "stream",
     "text": [
      "\r",
      "                                                                                \r"
     ]
    }
   ],
   "source": [
    "df_la_accidents.select('Start_Lat',\n",
    "                       'Start_Lng',\n",
    "                       'End_Lat',\n",
    "                       'End_Lng',   \n",
    "                       \n",
    " ).describe().show()"
   ]
  },
  {
   "cell_type": "code",
   "execution_count": 12,
   "id": "c8e32308",
   "metadata": {},
   "outputs": [
    {
     "name": "stderr",
     "output_type": "stream",
     "text": [
      "\r",
      "[Stage 14:>                                                         (0 + 1) / 1]\r"
     ]
    },
    {
     "name": "stdout",
     "output_type": "stream",
     "text": [
      "+-------+------------------+--------------------+-----------------+-----------------+\n",
      "|summary|    Visibility(mi)|   Precipitation(in)|   Temperature(F)|    Wind_Chill(F)|\n",
      "+-------+------------------+--------------------+-----------------+-----------------+\n",
      "|  count|            155807|              109020|           155386|           104427|\n",
      "|   mean| 9.099849878375176|0.003434507429829328| 65.6553846549885|64.92501173068267|\n",
      "| stddev|1.9966295666733327|  0.0233522990863638|9.415541441172108|9.538574782508734|\n",
      "|    min|               0.0|                 0.0|             37.9|             37.0|\n",
      "|    max|              10.0|                0.62|            106.0|            106.0|\n",
      "+-------+------------------+--------------------+-----------------+-----------------+\n",
      "\n"
     ]
    },
    {
     "name": "stderr",
     "output_type": "stream",
     "text": [
      "\r",
      "                                                                                \r"
     ]
    }
   ],
   "source": [
    "df_la_accidents.select( 'Visibility(mi)',\n",
    "                       'Precipitation(in)',\n",
    "                       'Temperature(F)',\n",
    "                       'Wind_Chill(F)'                     \n",
    " ).describe().show()"
   ]
  },
  {
   "cell_type": "code",
   "execution_count": null,
   "id": "ad9efb33",
   "metadata": {},
   "outputs": [],
   "source": [
    "df_la_accidents.select().describe().show()"
   ]
  },
  {
   "cell_type": "code",
   "execution_count": 4,
   "id": "1500f7eb",
   "metadata": {},
   "outputs": [
    {
     "name": "stderr",
     "output_type": "stream",
     "text": [
      "\r",
      "[Stage 3:>                                                          (0 + 1) / 1]\r"
     ]
    },
    {
     "name": "stdout",
     "output_type": "stream",
     "text": [
      "+---+------+--------+----------+--------+---------+---------+-------+-------+------------+-----------+------+----+------+-----+-------+-------+--------+------------+-----------------+--------------+-------------+-----------+------------+--------------+--------------+---------------+-----------------+-----------------+-------+----+--------+--------+--------+-------+-------+----------+-------+----+---------------+--------------+------------+--------------+--------------+-----------------+---------------------+\n",
      "| ID|Source|Severity|Start_Time|End_Time|Start_Lat|Start_Lng|End_Lat|End_Lng|Distance(mi)|Description|Street|City|County|State|Zipcode|Country|Timezone|Airport_Code|Weather_Timestamp|Temperature(F)|Wind_Chill(F)|Humidity(%)|Pressure(in)|Visibility(mi)|Wind_Direction|Wind_Speed(mph)|Precipitation(in)|Weather_Condition|Amenity|Bump|Crossing|Give_Way|Junction|No_Exit|Railway|Roundabout|Station|Stop|Traffic_Calming|Traffic_Signal|Turning_Loop|Sunrise_Sunset|Civil_Twilight|Nautical_Twilight|Astronomical_Twilight|\n",
      "+---+------+--------+----------+--------+---------+---------+-------+-------+------------+-----------+------+----+------+-----+-------+-------+--------+------------+-----------------+--------------+-------------+-----------+------------+--------------+--------------+---------------+-----------------+-----------------+-------+----+--------+--------+--------+-------+-------+----------+-------+----+---------------+--------------+------------+--------------+--------------+-----------------+---------------------+\n",
      "|  0|     0|       0|         0|       0|        0|        0|  63515|  63515|           0|          1|    69|   0|     0|    0|      0|      0|       0|           1|              470|          1105|        52064|       1180|         965|           684|          2431|          23989|            47471|              650|      0|   0|       0|       0|       0|      0|      0|         0|      0|   0|              0|             0|           0|             0|             0|                0|                    0|\n",
      "+---+------+--------+----------+--------+---------+---------+-------+-------+------------+-----------+------+----+------+-----+-------+-------+--------+------------+-----------------+--------------+-------------+-----------+------------+--------------+--------------+---------------+-----------------+-----------------+-------+----+--------+--------+--------+-------+-------+----------+-------+----+---------------+--------------+------------+--------------+--------------+-----------------+---------------------+\n",
      "\n"
     ]
    },
    {
     "name": "stderr",
     "output_type": "stream",
     "text": [
      "\r",
      "                                                                                \r"
     ]
    }
   ],
   "source": [
    "from pyspark.sql.functions import col, sum\n",
    "null_statistics = df_la_accidents.select([sum(col(c).isNull().cast(\"int\")).alias(c) for c in df_la_accidents.columns])\n",
    "null_statistics.show()"
   ]
  },
  {
   "cell_type": "code",
   "execution_count": 5,
   "id": "e07b1161",
   "metadata": {},
   "outputs": [
    {
     "name": "stderr",
     "output_type": "stream",
     "text": [
      "                                                                                \r"
     ]
    },
    {
     "name": "stdout",
     "output_type": "stream",
     "text": [
      "Column: ID, Data: [0]\n"
     ]
    },
    {
     "name": "stderr",
     "output_type": "stream",
     "text": [
      "                                                                                \r"
     ]
    },
    {
     "name": "stdout",
     "output_type": "stream",
     "text": [
      "Column: Source, Data: [0]\n"
     ]
    },
    {
     "name": "stderr",
     "output_type": "stream",
     "text": [
      "                                                                                \r"
     ]
    },
    {
     "name": "stdout",
     "output_type": "stream",
     "text": [
      "Column: Severity, Data: [0]\n"
     ]
    },
    {
     "name": "stderr",
     "output_type": "stream",
     "text": [
      "                                                                                \r"
     ]
    },
    {
     "name": "stdout",
     "output_type": "stream",
     "text": [
      "Column: Start_Time, Data: [0]\n"
     ]
    },
    {
     "name": "stderr",
     "output_type": "stream",
     "text": [
      "                                                                                \r"
     ]
    },
    {
     "name": "stdout",
     "output_type": "stream",
     "text": [
      "Column: End_Time, Data: [0]\n"
     ]
    },
    {
     "name": "stderr",
     "output_type": "stream",
     "text": [
      "                                                                                \r"
     ]
    },
    {
     "name": "stdout",
     "output_type": "stream",
     "text": [
      "Column: Start_Lat, Data: [0]\n"
     ]
    },
    {
     "name": "stderr",
     "output_type": "stream",
     "text": [
      "                                                                                \r"
     ]
    },
    {
     "name": "stdout",
     "output_type": "stream",
     "text": [
      "Column: Start_Lng, Data: [0]\n",
      "Column: End_Lat, Data: [63515]\n",
      "Column: End_Lng, Data: [63515]\n"
     ]
    },
    {
     "name": "stderr",
     "output_type": "stream",
     "text": [
      "                                                                                \r"
     ]
    },
    {
     "name": "stdout",
     "output_type": "stream",
     "text": [
      "Column: Distance(mi), Data: [0]\n",
      "Column: Description, Data: [1]\n",
      "Column: Street, Data: [69]\n",
      "Column: City, Data: [0]\n"
     ]
    },
    {
     "name": "stderr",
     "output_type": "stream",
     "text": [
      "                                                                                \r"
     ]
    },
    {
     "name": "stdout",
     "output_type": "stream",
     "text": [
      "Column: County, Data: [0]\n"
     ]
    },
    {
     "name": "stderr",
     "output_type": "stream",
     "text": [
      "                                                                                \r"
     ]
    },
    {
     "name": "stdout",
     "output_type": "stream",
     "text": [
      "Column: State, Data: [0]\n"
     ]
    },
    {
     "name": "stderr",
     "output_type": "stream",
     "text": [
      "                                                                                \r"
     ]
    },
    {
     "name": "stdout",
     "output_type": "stream",
     "text": [
      "Column: Zipcode, Data: [0]\n"
     ]
    },
    {
     "name": "stderr",
     "output_type": "stream",
     "text": [
      "                                                                                \r"
     ]
    },
    {
     "name": "stdout",
     "output_type": "stream",
     "text": [
      "Column: Country, Data: [0]\n"
     ]
    },
    {
     "name": "stderr",
     "output_type": "stream",
     "text": [
      "                                                                                \r"
     ]
    },
    {
     "name": "stdout",
     "output_type": "stream",
     "text": [
      "Column: Timezone, Data: [0]\n",
      "Column: Airport_Code, Data: [1]\n",
      "Column: Weather_Timestamp, Data: [470]\n",
      "Column: Temperature(F), Data: [1105]\n",
      "Column: Wind_Chill(F), Data: [52064]\n",
      "Column: Humidity(%), Data: [1180]\n",
      "Column: Pressure(in), Data: [965]\n"
     ]
    },
    {
     "name": "stderr",
     "output_type": "stream",
     "text": [
      "\r",
      "[Stage 78:>                                                         (0 + 1) / 1]\r",
      "\r",
      "                                                                                \r"
     ]
    },
    {
     "name": "stdout",
     "output_type": "stream",
     "text": [
      "Column: Visibility(mi), Data: [684]\n",
      "Column: Wind_Direction, Data: [2431]\n",
      "Column: Wind_Speed(mph), Data: [23989]\n"
     ]
    },
    {
     "name": "stderr",
     "output_type": "stream",
     "text": [
      "                                                                                \r"
     ]
    },
    {
     "name": "stdout",
     "output_type": "stream",
     "text": [
      "Column: Precipitation(in), Data: [47471]\n",
      "Column: Weather_Condition, Data: [650]\n"
     ]
    },
    {
     "name": "stderr",
     "output_type": "stream",
     "text": [
      "\r",
      "[Stage 93:>                                                         (0 + 1) / 1]\r",
      "\r",
      "                                                                                \r"
     ]
    },
    {
     "name": "stdout",
     "output_type": "stream",
     "text": [
      "Column: Amenity, Data: [0]\n"
     ]
    },
    {
     "name": "stderr",
     "output_type": "stream",
     "text": [
      "                                                                                \r"
     ]
    },
    {
     "name": "stdout",
     "output_type": "stream",
     "text": [
      "Column: Bump, Data: [0]\n",
      "Column: Crossing, Data: [0]\n",
      "Column: Give_Way, Data: [0]\n",
      "Column: Junction, Data: [0]\n",
      "Column: No_Exit, Data: [0]\n",
      "Column: Railway, Data: [0]\n",
      "Column: Roundabout, Data: [0]\n",
      "Column: Station, Data: [0]\n",
      "Column: Stop, Data: [0]\n",
      "Column: Traffic_Calming, Data: [0]\n",
      "Column: Traffic_Signal, Data: [0]\n"
     ]
    },
    {
     "name": "stderr",
     "output_type": "stream",
     "text": [
      "                                                                                \r"
     ]
    },
    {
     "name": "stdout",
     "output_type": "stream",
     "text": [
      "Column: Turning_Loop, Data: [0]\n"
     ]
    },
    {
     "name": "stderr",
     "output_type": "stream",
     "text": [
      "                                                                                \r"
     ]
    },
    {
     "name": "stdout",
     "output_type": "stream",
     "text": [
      "Column: Sunrise_Sunset, Data: [0]\n",
      "Column: Civil_Twilight, Data: [0]\n",
      "Column: Nautical_Twilight, Data: [0]\n",
      "Column: Astronomical_Twilight, Data: [0]\n"
     ]
    }
   ],
   "source": [
    "for column_name in null_statistics.columns:\n",
    "    column_data = null_statistics.select(column_name).rdd.flatMap(lambda x: x).collect()\n",
    "    print(f\"Column: {column_name}, Data: {column_data}\")"
   ]
  },
  {
   "cell_type": "markdown",
   "id": "347c8a9b",
   "metadata": {},
   "source": [
    "Column: ID, Data: [0]  \n",
    "Column: Source, Data: [0]  \n",
    "Column: Severity, Data: [0]  \n",
    "Column: Start_Time, Data: [0]  \n",
    "Column: End_Time, Data: [0]  \n",
    "Column: Start_Lat, Data: [0]  \n",
    "Column: Start_Lng, Data: [0]  \n",
    "Column: End_Lat, Data: [63515]  \n",
    "Column: End_Lng, Data: [63515]  \n",
    "Column: Distance(mi), Data: [0]  \n",
    "Column: Description, Data: [1]  \n",
    "Column: Street, Data: [69]  \n",
    "Column: City, Data: [0]  \n",
    "Column: County, Data: [0]  \n",
    "Column: State, Data: [0]  \n",
    "Column: Zipcode, Data: [0]  \n",
    "Column: Country, Data: [0]  \n",
    "Column: Timezone, Data: [0]  \n",
    "Column: Airport_Code, Data: [1]  \n",
    "Column: Weather_Timestamp, Data: [470]  \n",
    "Column: Temperature(F), Data: [1105]  \n",
    "Column: Wind_Chill(F), Data: [52064]  \n",
    "Column: Humidity(%), Data: [1180]  \n",
    "Column: Pressure(in), Data: [965]  \n",
    "Column: Visibility(mi), Data: [684]  \n",
    "Column: Wind_Direction, Data: [2431]  \n",
    "Column: Wind_Speed(mph), Data: [23989]  \n",
    "Column: Precipitation(in), Data: [47471]  \n",
    "Column: Weather_Condition, Data: [650]  \n",
    "Column: Amenity, Data: [0]  \n",
    "Column: Bump, Data: [0]  \n",
    "Column: Crossing, Data: [0]  \n",
    "Column: Give_Way, Data: [0]  \n",
    "Column: Junction, Data: [0]  \n",
    "Column: No_Exit, Data: [0]  \n",
    "Column: Railway, Data: [0]  \n",
    "Column: Roundabout, Data: [0]  \n",
    "Column: Station, Data: [0]  \n",
    "Column: Stop, Data: [0]  \n",
    "Column: Traffic_Calming, Data: [0]  \n",
    "Column: Traffic_Signal, Data: [0]  \n",
    "Column: Turning_Loop, Data: [0]                                                                                 \n",
    "Column: Sunrise_Sunset, Data: [0]  \n",
    "Column: Civil_Twilight, Data: [0]  \n",
    "Column: Nautical_Twilight, Data: [0]  \n",
    "Column: Astronomical_Twilight, Data: [0]  "
   ]
  },
  {
   "cell_type": "code",
   "execution_count": 4,
   "id": "c8b5deab",
   "metadata": {},
   "outputs": [
    {
     "name": "stderr",
     "output_type": "stream",
     "text": [
      "                                                                                \r"
     ]
    }
   ],
   "source": [
    "import matplotlib.pyplot as plt\n",
    "import pandas as pd\n",
    "\n",
    "la_traffic_df = df_la_accidents.toPandas()\n"
   ]
  },
  {
   "cell_type": "code",
   "execution_count": 5,
   "id": "8bc10aca",
   "metadata": {},
   "outputs": [
    {
     "name": "stdout",
     "output_type": "stream",
     "text": [
      "['Start_Lat']\n",
      "0         34.078926\n",
      "1         34.091179\n",
      "2         34.037239\n",
      "3         34.027458\n",
      "4         33.947544\n",
      "            ...    \n",
      "156486    34.036930\n",
      "156487    34.075790\n",
      "156488    34.023790\n",
      "156489    34.070610\n",
      "156490    34.043650\n",
      "Name: Start_Lat, Length: 156491, dtype: float64\n",
      "['Start_Lng']\n",
      "0        -118.289040\n",
      "1        -118.239471\n",
      "2        -118.309074\n",
      "3        -118.274490\n",
      "4        -118.279434\n",
      "             ...    \n",
      "156486   -118.438770\n",
      "156487   -118.276680\n",
      "156488   -118.276390\n",
      "156489   -118.263910\n",
      "156490   -118.443730\n",
      "Name: Start_Lng, Length: 156491, dtype: float64\n",
      "['End_Lat']\n",
      "0              NaN\n",
      "1              NaN\n",
      "2              NaN\n",
      "3              NaN\n",
      "4              NaN\n",
      "            ...   \n",
      "156486    34.02559\n",
      "156487    34.07431\n",
      "156488    34.02576\n",
      "156489    34.06974\n",
      "156490    34.04934\n",
      "Name: End_Lat, Length: 156491, dtype: float64\n",
      "['End_Lng']\n",
      "0               NaN\n",
      "1               NaN\n",
      "2               NaN\n",
      "3               NaN\n",
      "4               NaN\n",
      "            ...    \n",
      "156486   -118.42918\n",
      "156487   -118.27225\n",
      "156488   -118.27529\n",
      "156489   -118.26155\n",
      "156490   -118.44842\n",
      "Name: End_Lng, Length: 156491, dtype: float64\n",
      "['Distance(mi)']\n",
      "0         0.000\n",
      "1         0.000\n",
      "2         0.000\n",
      "3         0.000\n",
      "4         0.000\n",
      "          ...  \n",
      "156486    0.957\n",
      "156487    0.273\n",
      "156488    0.150\n",
      "156489    0.148\n",
      "156490    0.476\n",
      "Name: Distance(mi), Length: 156491, dtype: float64\n",
      "['Temperature(F)']\n",
      "0         82.9\n",
      "1         82.9\n",
      "2         82.9\n",
      "3         82.9\n",
      "4         80.1\n",
      "          ... \n",
      "156486    72.0\n",
      "156487    67.0\n",
      "156488    81.0\n",
      "156489    82.0\n",
      "156490    74.0\n",
      "Name: Temperature(F), Length: 156491, dtype: float64\n",
      "['Wind_Chill(F)']\n",
      "0          NaN\n",
      "1          NaN\n",
      "2          NaN\n",
      "3          NaN\n",
      "4          NaN\n",
      "          ... \n",
      "156486    72.0\n",
      "156487    67.0\n",
      "156488    81.0\n",
      "156489    82.0\n",
      "156490    74.0\n",
      "Name: Wind_Chill(F), Length: 156491, dtype: float64\n",
      "['Humidity(%)']\n",
      "0         47.0\n",
      "1         47.0\n",
      "2         47.0\n",
      "3         47.0\n",
      "4         52.0\n",
      "          ... \n",
      "156486    76.0\n",
      "156487    79.0\n",
      "156488    49.0\n",
      "156489    47.0\n",
      "156490    66.0\n",
      "Name: Humidity(%), Length: 156491, dtype: float64\n",
      "['Pressure(in)']\n",
      "0         29.95\n",
      "1         29.95\n",
      "2         29.95\n",
      "3         29.95\n",
      "4         29.96\n",
      "          ...  \n",
      "156486    29.57\n",
      "156487    29.62\n",
      "156488    29.66\n",
      "156489    29.65\n",
      "156490    29.64\n",
      "Name: Pressure(in), Length: 156491, dtype: float64\n",
      "['Visibility(mi)']\n",
      "0         10.0\n",
      "1         10.0\n",
      "2         10.0\n",
      "3         10.0\n",
      "4         10.0\n",
      "          ... \n",
      "156486    10.0\n",
      "156487     7.0\n",
      "156488     8.0\n",
      "156489     9.0\n",
      "156490    10.0\n",
      "Name: Visibility(mi), Length: 156491, dtype: float64\n",
      "['Wind_Speed(mph)']\n",
      "0         4.6\n",
      "1         4.6\n",
      "2         4.6\n",
      "3         4.6\n",
      "4         9.2\n",
      "         ... \n",
      "156486    8.0\n",
      "156487    0.0\n",
      "156488    0.0\n",
      "156489    0.0\n",
      "156490    8.0\n",
      "Name: Wind_Speed(mph), Length: 156491, dtype: float64\n",
      "['Precipitation(in)']\n",
      "0         NaN\n",
      "1         NaN\n",
      "2         NaN\n",
      "3         NaN\n",
      "4         NaN\n",
      "         ... \n",
      "156486    0.0\n",
      "156487    0.0\n",
      "156488    0.0\n",
      "156489    0.0\n",
      "156490    0.0\n",
      "Name: Precipitation(in), Length: 156491, dtype: float64\n"
     ]
    },
    {
     "data": {
      "image/png": "[encoded data removed]",
      "text/plain": [
       "<Figure size 1080x720 with 12 Axes>"
      ]
     },
     "metadata": {
      "needs_background": "light"
     },
     "output_type": "display_data"
    }
   ],
   "source": [
    "# draw box graph and see outliers\n",
    "continuous_attributes =  [ 'Start_Lat',\n",
    "       'Start_Lng', 'End_Lat', 'End_Lng', 'Distance(mi)', \n",
    "       'Temperature(F)', 'Wind_Chill(F)',\n",
    "       'Humidity(%)', 'Pressure(in)', 'Visibility(mi)',\n",
    "       'Wind_Speed(mph)', 'Precipitation(in)']\n",
    "fig, axs = plt.subplots(nrows=3, ncols=4, figsize=(15, 10))\n",
    "for i, column in enumerate(continuous_attributes):\n",
    "    row = i // 4  \n",
    "    col = i % 4   \n",
    "    print([column])\n",
    "    axs[row, col].boxplot(la_traffic_df[la_traffic_df[column].notna()][column], labels=[column])\n",
    "    print(la_traffic_df[column])\n",
    "    axs[row, col].set_ylabel('Value')\n",
    "    # axs[row, col].set_title(f'Box Plot for {column}')\n",
    "plt.tight_layout()\n",
    "plt.show()"
   ]
  },
  {
   "cell_type": "code",
   "execution_count": 6,
   "id": "e671d36d",
   "metadata": {},
   "outputs": [
    {
     "data": {
      "image/png": "[encoded data removed]",
      "text/plain": [
       "<Figure size 576x432 with 1 Axes>"
      ]
     },
     "metadata": {
      "needs_background": "light"
     },
     "output_type": "display_data"
    }
   ],
   "source": [
    "continuous_attributes = ['Distance(mi)']\n",
    "plt.figure(figsize=(8, 6 * len(continuous_attributes)))\n",
    "for i in range(0,len(continuous_attributes)):\n",
    "    column = continuous_attributes[i]\n",
    "    plt.subplot(len(continuous_attributes), 1, i + 1)  # 创建子图\n",
    "    ax = plt.gca()\n",
    "    ax.hist(la_traffic_df[column], color='skyblue')\n",
    "    # ax.set_xlabel(column)\n",
    "    ax.set_ylabel('Frequency')\n",
    "    ax.set_title(f'Data Distribution for {column}')\n",
    "\n",
    "plt.tight_layout() \n",
    "plt.show()"
   ]
  },
  {
   "cell_type": "code",
   "execution_count": 7,
   "id": "9791bcfe",
   "metadata": {},
   "outputs": [
    {
     "name": "stderr",
     "output_type": "stream",
     "text": [
      "/tmp/ipykernel_3861/3597685999.py:16: UserWarning: FixedFormatter should only be used together with FixedLocator\n",
      "  ax.set_yticklabels(value_counts.index)\n"
     ]
    },
    {
     "data": {
      "image/png": "[encoded data removed]",
      "text/plain": [
       "<Figure size 576x432 with 1 Axes>"
      ]
     },
     "metadata": {
      "needs_background": "light"
     },
     "output_type": "display_data"
    }
   ],
   "source": [
    "\n",
    "# draw data distribution for Wind_Direction\n",
    "plt.rcParams['font.size'] = 10\n",
    "\n",
    "category_attributes = ['Wind_Direction']\n",
    "plt.figure(figsize=(8, 6 * len(category_attributes)))\n",
    "for i in range(0,len(category_attributes)):\n",
    "    column = category_attributes[i]\n",
    "    plt.subplot(len(category_attributes), 1, i + 1)  # 创建子图\n",
    "    ax = plt.gca()\n",
    "    \n",
    "    value_counts = la_traffic_df[column].value_counts().sort_values(ascending=True)\n",
    "    ax.barh([str(i) for i in value_counts.index], value_counts.values, color='skyblue')\n",
    "    # ax.set_xlabel(column)\n",
    "    ax.set_ylabel('Frequency')\n",
    "    ax.set_title(f'Data Distribution for {column}')\n",
    "    ax.set_yticklabels(value_counts.index)\n",
    "\n",
    "plt.tight_layout() \n",
    "plt.show()\n"
   ]
  },
  {
   "cell_type": "code",
   "execution_count": null,
   "id": "9ce17c90",
   "metadata": {},
   "outputs": [],
   "source": []
  }
 ],
 "metadata": {
  "kernelspec": {
   "display_name": "Python 3 (ipykernel)",
   "language": "python",
   "name": "python3"
  },
  "language_info": {
   "codemirror_mode": {
    "name": "ipython",
    "version": 3
   },
   "file_extension": ".py",
   "mimetype": "text/x-python",
   "name": "python",
   "nbconvert_exporter": "python",
   "pygments_lexer": "ipython3",
   "version": "3.10.4"
  }
 },
 "nbformat": 4,
 "nbformat_minor": 5
}
