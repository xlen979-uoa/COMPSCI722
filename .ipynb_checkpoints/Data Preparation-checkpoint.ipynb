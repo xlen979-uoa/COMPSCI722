{
 "cells": [
  {
   "cell_type": "code",
   "execution_count": 1,
   "id": "d8544d41",
   "metadata": {},
   "outputs": [
    {
     "name": "stderr",
     "output_type": "stream",
     "text": [
      "WARNING: An illegal reflective access operation has occurred\n",
      "WARNING: Illegal reflective access by org.apache.spark.unsafe.Platform (file:/home/ubuntu/spark-3.2.1-bin-hadoop2.7/jars/spark-unsafe_2.12-3.2.1.jar) to constructor java.nio.DirectByteBuffer(long,int)\n",
      "WARNING: Please consider reporting this to the maintainers of org.apache.spark.unsafe.Platform\n",
      "WARNING: Use --illegal-access=warn to enable warnings of further illegal reflective access operations\n",
      "WARNING: All illegal access operations will be denied in a future release\n",
      "Using Spark's default log4j profile: org/apache/spark/log4j-defaults.properties\n",
      "Setting default log level to \"WARN\".\n",
      "To adjust logging level use sc.setLogLevel(newLevel). For SparkR, use setLogLevel(newLevel).\n",
      "23/10/12 06:55:04 WARN NativeCodeLoader: Unable to load native-hadoop library for your platform... using builtin-java classes where applicable\n"
     ]
    }
   ],
   "source": [
    "import findspark\n",
    "findspark.init('/home/ubuntu/spark-3.2.1-bin-hadoop2.7')\n",
    "import pyspark\n",
    "from pyspark.sql import SparkSession\n",
    "spark = SparkSession.builder.appName('DataPreparation').getOrCreate()"
   ]
  },
  {
   "cell_type": "markdown",
   "id": "c1bb746c",
   "metadata": {},
   "source": [
    "## 3.1\tData Selection "
   ]
  },
  {
   "cell_type": "code",
   "execution_count": 16,
   "id": "ea8f8d44",
   "metadata": {},
   "outputs": [
    {
     "name": "stdout",
     "output_type": "stream",
     "text": [
      "+---------+-------+--------+-------------------+-------------------+------------------+-------------------+------------------+-----------+------------------+--------------------+---------------+-----------+-----------+-----+----------+-------+----------+------------+-------------------+--------------+-------------+-----------+------------+--------------+--------------+---------------+-----------------+-----------------+-------+-----+--------+--------+--------+-------+-------+----------+-------+-----+---------------+--------------+------------+--------------+--------------+-----------------+---------------------+\n",
      "|       ID| Source|Severity|         Start_Time|           End_Time|         Start_Lat|          Start_Lng|           End_Lat|    End_Lng|      Distance(mi)|         Description|         Street|       City|     County|State|   Zipcode|Country|  Timezone|Airport_Code|  Weather_Timestamp|Temperature(F)|Wind_Chill(F)|Humidity(%)|Pressure(in)|Visibility(mi)|Wind_Direction|Wind_Speed(mph)|Precipitation(in)|Weather_Condition|Amenity| Bump|Crossing|Give_Way|Junction|No_Exit|Railway|Roundabout|Station| Stop|Traffic_Calming|Traffic_Signal|Turning_Loop|Sunrise_Sunset|Civil_Twilight|Nautical_Twilight|Astronomical_Twilight|\n",
      "+---------+-------+--------+-------------------+-------------------+------------------+-------------------+------------------+-----------+------------------+--------------------+---------------+-----------+-----------+-----+----------+-------+----------+------------+-------------------+--------------+-------------+-----------+------------+--------------+--------------+---------------+-----------------+-----------------+-------+-----+--------+--------+--------+-------+-------+----------+-------+-----+---------------+--------------+------------+--------------+--------------+-----------------+---------------------+\n",
      "|A-4530122|Source1|       2|2022-06-01 13:05:30|2022-06-01 20:48:00|         34.036437|-118.38093899999998|         34.035143|-118.329599|2.9410000000000003|Slow traffic on S...|         I-10 E|Los Angeles|Los Angeles|   CA|     90034|     US|US/Pacific|        KSMO|2022-06-01 12:51:00|          71.0|         71.0|       66.0|       29.68|          10.0|           WSW|           10.0|              0.0|             Fair|  False|False|   False|   False|   False|  False|  False|     False|  False|False|          False|         False|       False|           Day|           Day|              Day|                  Day|\n",
      "|A-4530216|Source1|       2|2022-05-19 17:29:00|2022-05-19 18:52:44|          34.02434|        -118.193153|         34.024154|-118.192736|             0.027|Incident on W WHI...|  Whittier Blvd|Los Angeles|Los Angeles|   CA|90023-1733|     US|US/Pacific|        KCQT|2022-05-19 17:47:00|          63.0|         63.0|       75.0|       29.62|          10.0|             W|            7.0|              0.0|           Cloudy|  False|False|   False|   False|   False|  False|  False|     False|  False|False|          False|         False|       False|           Day|           Day|              Day|                  Day|\n",
      "|A-4530268|Source1|       2|2022-06-15 16:16:00|2022-06-15 18:34:28|34.146401000000004|        -118.226953|         34.146133|-118.227788|             0.051|Accident from Los...|           CA-2|Los Angeles|Los Angeles|   CA|     90041|     US|US/Pacific|        KCQT|2022-06-15 15:47:00|          75.0|         75.0|       62.0|       29.59|          10.0|             W|            8.0|              0.0|             Fair|  False|False|   False|   False|   False|  False|  False|     False|  False|False|          False|         False|       False|           Day|           Day|              Day|                  Day|\n",
      "|A-4530383|Source1|       2|2023-01-29 13:44:30|2023-01-29 16:57:00|         34.034927|         -118.33817|34.029878000000004|-118.404721|             3.827|Slow traffic on I...|         I-10 W|Los Angeles|Los Angeles|   CA|     90016|     US|US/Pacific|        KSMO|2023-01-29 13:51:00|          56.0|         56.0|       60.0|       29.69|          10.0|            SW|           12.0|              0.0|    Partly Cloudy|  False|False|   False|   False|   False|  False|  False|     False|  False|False|          False|         False|       False|           Day|           Day|              Day|                  Day|\n",
      "|A-4530401|Source1|       2|2022-09-23 14:22:22|2022-09-23 19:37:49|         34.058367|        -118.178023|         34.072143|-117.914981|            15.086|Slow traffic on S...|           I-10|Los Angeles|Los Angeles|   CA|     90063|     US|US/Pacific|        KCQT|2022-09-23 14:47:00|          84.0|         84.0|       34.0|       29.68|          10.0|           VAR|            3.0|              0.0|             Fair|  False|False|   False|   False|    True|  False|  False|     False|  False|False|          False|         False|       False|           Day|           Day|              Day|                  Day|\n",
      "|A-4530544|Source1|       2|2022-09-25 00:09:00|2022-09-25 01:29:15|         34.009491|         -118.12801|34.008796000000004|-118.128098|             0.048|Incident on S CON...|   Southside Dr|Los Angeles|Los Angeles|   CA|     90022|     US|US/Pacific|        KCQT|2022-09-25 00:47:00|          69.0|         69.0|       78.0|       29.82|          10.0|          CALM|            0.0|              0.0|             Fair|  False|False|   False|   False|   False|  False|  False|     False|  False|False|          False|         False|       False|         Night|         Night|            Night|                Night|\n",
      "|A-4530560|Source1|       2|2022-09-02 13:55:00|2022-09-02 15:34:52|         34.053147|        -118.244279|34.052989000000004|-118.244439|             0.014|Incident on N SPR...|    N Spring St|Los Angeles|Los Angeles|   CA|     90012|     US|US/Pacific|        KCQT|2022-09-02 13:47:00|          93.0|         93.0|       41.0|       29.55|          10.0|          CALM|            0.0|              0.0|             Fair|  False|False|    True|   False|   False|  False|  False|     False|  False|False|          False|          True|       False|           Day|           Day|              Day|                  Day|\n",
      "|A-4530562|Source1|       2|2022-07-13 13:42:00|2022-07-13 16:17:30|         34.058611|        -118.454588|          33.97731|-118.389051|             6.756|Slow traffic on S...|        I-405 S|Los Angeles|Los Angeles|   CA|     90025|     US|US/Pacific|        KSMO|2022-07-13 13:51:00|          68.0|         68.0|       70.0|       29.75|          10.0|           WSW|           12.0|              0.0|             Fair|  False|False|   False|   False|   False|  False|  False|     False|  False|False|          False|         False|       False|           Day|           Day|              Day|                  Day|\n",
      "|A-4530563|Source1|       2|2022-04-29 06:01:00|2022-04-29 21:25:30|         34.055685|        -118.452216|33.978809000000005| -118.39196|             6.334|Slow traffic on S...|San Diego Fwy S|Los Angeles|Los Angeles|   CA|     90025|     US|US/Pacific|        KSMO|2022-04-29 05:51:00|          51.0|         51.0|       86.0|        29.8|          10.0|          CALM|            0.0|              0.0|             Fair|  False|False|   False|   False|   False|  False|  False|     False|  False|False|          False|         False|       False|         Night|           Day|              Day|                  Day|\n",
      "|A-4530596|Source1|       2|2023-01-29 18:02:00|2023-01-29 20:11:47|         34.019123|        -118.160277|         34.019337|-118.161273|             0.059|Accident on Veron...|      Verona St|Los Angeles|Los Angeles|   CA|90022-3935|     US|US/Pacific|        KCQT|2023-01-29 17:47:00|          54.0|         54.0|       64.0|        29.7|          10.0|          CALM|            0.0|              0.0|           Cloudy|  False|False|   False|   False|   False|  False|  False|     False|  False|False|          False|         False|       False|         Night|         Night|              Day|                  Day|\n",
      "|A-4530597|Source1|       2|2023-01-17 20:40:00|2023-01-17 22:22:36|         34.024261|         -118.15292|         34.024465|-118.153872|             0.056|Incident on E 6TH...|       E 6th St|Los Angeles|Los Angeles|   CA|90022-3238|     US|US/Pacific|        KCQT|2023-01-17 20:47:00|          54.0|         54.0|       43.0|       29.81|          10.0|           NNW|            5.0|              0.0|             Fair|  False|False|   False|   False|   False|  False|  False|     False|  False|False|          False|         False|       False|         Night|         Night|            Night|                Night|\n",
      "|A-4530598|Source1|       2|2022-05-04 07:53:00|2022-05-04 10:06:13|         34.023244|        -118.159549|         34.023439|-118.160474|             0.055|Accident from Cle...|      Clela Ave|Los Angeles|Los Angeles|   CA|90022-3106|     US|US/Pacific|        KCQT|2022-05-04 07:47:00|          61.0|         61.0|       78.0|       29.74|           8.0|          CALM|            0.0|              0.0|           Cloudy|  False|False|   False|   False|   False|  False|  False|     False|  False| True|          False|         False|       False|           Day|           Day|              Day|                  Day|\n",
      "|A-4530599|Source1|       2|2022-04-10 09:27:00|2022-04-10 11:33:12|         34.025267|        -118.146252|         34.025479| -118.14727|              0.06|Accident from Wil...| Williamson Ave|Los Angeles|Los Angeles|   CA|90022-2734|     US|US/Pacific|        KCQT|2022-04-10 09:47:00|          65.0|         65.0|       61.0|       29.68|           9.0|           VAR|            3.0|              0.0|           Cloudy|  False|False|   False|   False|   False|  False|  False|     False|  False|False|          False|         False|       False|           Day|           Day|              Day|                  Day|\n",
      "|A-4530600|Source1|       2|2022-03-15 09:50:00|2022-03-15 12:01:14|         34.019337|        -118.161273|         34.019537|-118.162235|             0.057|Accident from Cle...|      Verona St|Los Angeles|Los Angeles|   CA|90022-3935|     US|US/Pacific|        KCQT|2022-03-15 10:47:00|          68.0|         68.0|       50.0|       29.96|           9.0|          CALM|            0.0|              0.0|             Fair|  False|False|   False|   False|   False|  False|  False|     False|  False|False|          False|         False|       False|           Day|           Day|              Day|                  Day|\n",
      "|A-4530645|Source1|       2|2022-03-03 12:51:00|2022-03-03 15:03:29|         33.990582|        -118.319277|          33.99095|-118.319272|             0.025|Accident from W S...|        2nd Ave|Los Angeles|Los Angeles|   CA|90043-2625|     US|US/Pacific|        KHHR|2022-03-03 12:53:00|          65.0|         null|       54.0|       29.84|          10.0|          null|           null|              0.0|             Fair|  False|False|   False|   False|   False|  False|  False|     False|  False|False|          False|         False|       False|           Day|           Day|              Day|                  Day|\n",
      "|A-4530765|Source1|       2|2022-09-09 15:11:04|2022-09-09 16:19:13|         33.987869|        -118.370547|          33.98901|-118.378471|             0.461|Stationary traffi...|  W Slauson Ave|Los Angeles|Los Angeles|   CA|     90056|     US|US/Pacific|        KLAX|2022-09-09 14:53:00|          97.0|         97.0|       29.0|        29.4|          10.0|             E|           22.0|              0.0|   Cloudy / Windy|  False|False|   False|   False|   False|  False|  False|     False|  False|False|          False|          True|       False|           Day|           Day|              Day|                  Day|\n",
      "|A-4530799|Source1|       2|2022-11-09 13:41:30|2022-11-09 14:10:30|         34.001769|        -118.174081|         34.014622|-118.172198|             0.895|Slow traffic on L...|        I-710 N|Los Angeles|Los Angeles|   CA|     90040|     US|US/Pacific|        KCQT|2022-11-09 13:47:00|          64.0|         64.0|       37.0|       29.86|          10.0|           WNW|            3.0|              0.0|             Fair|  False|False|   False|   False|   False|  False|   True|     False|  False|False|          False|         False|       False|           Day|           Day|              Day|                  Day|\n",
      "|A-4530800|Source1|       2|2022-06-26 09:39:30|2022-06-26 10:37:30|          33.99868|        -118.176068|34.013259999999995| -118.17223|             1.031|Slow traffic on L...|        I-710 N|Los Angeles|Los Angeles|   CA|     90058|     US|US/Pacific|        KCQT|2022-06-26 09:47:00|          77.0|         77.0|       56.0|       29.77|          10.0|          CALM|            0.0|              0.0|             Fair|  False|False|   False|   False|    True|  False|  False|     False|  False|False|          False|         False|       False|           Day|           Day|              Day|                  Day|\n",
      "|A-4530942|Source1|       2|2022-12-21 13:11:00|2022-12-21 19:05:32|         34.040837|        -118.170209|         33.957358|-118.170579|             5.768|Stationary traffi...|        I-710 S|Los Angeles|Los Angeles|   CA|     90022|     US|US/Pacific|        KCQT|2022-12-21 12:47:00|          70.0|         70.0|       27.0|       29.88|          10.0|          CALM|            0.0|              0.0|             Fair|  False|False|   False|   False|   False|  False|  False|     False|  False|False|          False|         False|       False|           Day|           Day|              Day|                  Day|\n",
      "|A-4530943|Source1|       2|2022-07-07 14:08:30|2022-07-07 14:29:30|34.031220000000005|        -118.274582|         34.027975|-118.274543|             0.224|Slow traffic on I...|   Harbor Fwy S|Los Angeles|Los Angeles|   CA|     90007|     US|US/Pacific|        KCQT|2022-07-07 13:47:00|          78.0|         78.0|       52.0|       29.75|          10.0|           WSW|            6.0|              0.0|             Fair|  False|False|   False|   False|   False|  False|  False|     False|   True|False|          False|         False|       False|           Day|           Day|              Day|                  Day|\n",
      "+---------+-------+--------+-------------------+-------------------+------------------+-------------------+------------------+-----------+------------------+--------------------+---------------+-----------+-----------+-----+----------+-------+----------+------------+-------------------+--------------+-------------+-----------+------------+--------------+--------------+---------------+-----------------+-----------------+-------+-----+--------+--------+--------+-------+-------+----------+-------+-----+---------------+--------------+------------+--------------+--------------+-----------------+---------------------+\n",
      "only showing top 20 rows\n",
      "\n"
     ]
    }
   ],
   "source": [
    "# Load the filtered DataFrames back from CSV files\n",
    "source1_df = spark.read.csv(\"US_Accidents_s1.csv\", header=True)\n",
    "source2_df = spark.read.csv(\"US_Accidents_s2.csv\", header=True)\n",
    "source3_df = spark.read.csv(\"US_Accidents_s3.csv\", header=True)\n",
    "\n",
    "# Data Integration - Append the DataFrames\n",
    "df_la_accidents = source1_df.union(source2_df).union(source3_df)\n",
    "\n",
    "# Show the resulting DataFrame\n",
    "df_la_accidents.show()\n"
   ]
  },
  {
   "cell_type": "code",
   "execution_count": 2,
   "id": "33afae6d",
   "metadata": {},
   "outputs": [
    {
     "name": "stderr",
     "output_type": "stream",
     "text": [
      "23/10/12 06:55:18 WARN package: Truncated the string representation of a plan since it was too large. This behavior can be adjusted by setting 'spark.sql.debug.maxToStringFields'.\n"
     ]
    },
    {
     "name": "stdout",
     "output_type": "stream",
     "text": [
      "+-------+-------+--------+-------------------+-------------------+------------------+-----------+-------+-------+------------+--------------------+------------------+-----------+-----------+-----+----------+-------+----------+------------+-------------------+--------------+-------------+-----------+------------+--------------+--------------+---------------+-----------------+-----------------+-------+-----+--------+--------+--------+-------+-------+----------+-------+-----+---------------+--------------+------------+--------------+--------------+-----------------+---------------------+\n",
      "|     ID| Source|Severity|         Start_Time|           End_Time|         Start_Lat|  Start_Lng|End_Lat|End_Lng|Distance(mi)|         Description|            Street|       City|     County|State|   Zipcode|Country|  Timezone|Airport_Code|  Weather_Timestamp|Temperature(F)|Wind_Chill(F)|Humidity(%)|Pressure(in)|Visibility(mi)|Wind_Direction|Wind_Speed(mph)|Precipitation(in)|Weather_Condition|Amenity| Bump|Crossing|Give_Way|Junction|No_Exit|Railway|Roundabout|Station| Stop|Traffic_Calming|Traffic_Signal|Turning_Loop|Sunrise_Sunset|Civil_Twilight|Nautical_Twilight|Astronomical_Twilight|\n",
      "+-------+-------+--------+-------------------+-------------------+------------------+-----------+-------+-------+------------+--------------------+------------------+-----------+-----------+-----+----------+-------+----------+------------+-------------------+--------------+-------------+-----------+------------+--------------+--------------+---------------+-----------------+-----------------+-------+-----+--------+--------+--------+-------+-------+----------+-------+-----+---------------+--------------+------------+--------------+--------------+-----------------+---------------------+\n",
      "|A-42867|Source2|       2|2016-06-21 10:46:30|2016-06-21 11:27:00|         34.078926| -118.28904|   null|   null|         0.0|Right hand should...|          US-101 N|Los Angeles|Los Angeles|   CA|     90004|     US|US/Pacific|        KCQT|2016-06-21 10:47:00|          82.9|         null|       47.0|       29.95|          10.0|      Variable|            4.6|             null|            Clear|  false|false|   false|   false|    true|  false|  false|     false|  false|false|          false|         false|       false|           Day|           Day|              Day|                  Day|\n",
      "|A-42868|Source2|       3|2016-06-21 10:49:21|2016-06-21 11:34:21|         34.091179|-118.239471|   null|   null|         0.0|Accident on I-5 N...|Golden State Fwy S|Los Angeles|Los Angeles|   CA|     90031|     US|US/Pacific|        KCQT|2016-06-21 10:47:00|          82.9|         null|       47.0|       29.95|          10.0|      Variable|            4.6|             null|            Clear|  false|false|   false|   false|   false|  false|  false|     false|  false|false|          false|         false|       false|           Day|           Day|              Day|                  Day|\n",
      "|A-42882|Source2|       3|2016-06-21 10:51:45|2016-06-21 11:36:45|         34.037239|-118.309074|   null|   null|         0.0|Accident on I-10 ...|            I-10 W|Los Angeles|Los Angeles|   CA|     90018|     US|US/Pacific|        KCQT|2016-06-21 10:47:00|          82.9|         null|       47.0|       29.95|          10.0|      Variable|            4.6|             null|            Clear|  false|false|   false|   false|   false|  false|  false|     false|   true|false|          false|         false|       false|           Day|           Day|              Day|                  Day|\n",
      "|A-42884|Source2|       3|2016-06-21 10:56:24|2016-06-21 11:34:00|         34.027458| -118.27449|   null|   null|         0.0|Accident on I-110...|      Harbor Fwy N|Los Angeles|Los Angeles|   CA|     90007|     US|US/Pacific|        KCQT|2016-06-21 10:47:00|          82.9|         null|       47.0|       29.95|          10.0|      Variable|            4.6|             null|            Clear|  false|false|   false|   false|   false|  false|  false|     false|  false|false|          false|         false|       false|           Day|           Day|              Day|                  Day|\n",
      "|A-42899|Source2|       3|2016-06-21 11:30:46|2016-06-21 12:00:46|         33.947544|-118.279434|   null|   null|         0.0|Right hand should...|      Harbor Fwy N|Los Angeles|Los Angeles|   CA|     90003|     US|US/Pacific|        KHHR|2016-06-21 11:53:00|          80.1|         null|       52.0|       29.96|          10.0|           ESE|            9.2|             null|            Clear|  false|false|   false|   false|   false|  false|  false|     false|  false|false|          false|         false|       false|           Day|           Day|              Day|                  Day|\n",
      "|A-42913|Source2|       3|2016-06-21 11:59:09|2016-06-21 12:44:09|34.034721000000005|-118.344635|   null|   null|         0.0|#4 &amp; #5 lane ...|            I-10 W|Los Angeles|Los Angeles|   CA|     90016|     US|US/Pacific|        KSMO|2016-06-21 11:51:00|          79.0|         null|       58.0|       29.96|          10.0|            SW|            9.2|             null|            Clear|  false|false|   false|   false|   false|  false|  false|     false|  false|false|          false|         false|       false|           Day|           Day|              Day|                  Day|\n",
      "|A-42915|Source2|       3|2016-06-21 12:00:06|2016-06-21 12:42:00|         33.947437|-118.279312|   null|   null|         0.0|Slow traffic and ...|      Harbor Fwy N|Los Angeles|Los Angeles|   CA|     90003|     US|US/Pacific|        KHHR|2016-06-21 11:53:00|          80.1|         null|       52.0|       29.96|          10.0|           ESE|            9.2|             null|            Clear|  false|false|   false|   false|   false|  false|  false|     false|  false|false|          false|          true|       false|           Day|           Day|              Day|                  Day|\n",
      "|A-42916|Source2|       2|2016-06-21 12:12:04|2016-06-21 12:57:04|34.069759000000005|-118.236176|   null|   null|         0.0|Right hand should...|    Pasadena Fwy S|Los Angeles|Los Angeles|   CA|     90012|     US|US/Pacific|        KCQT|2016-06-21 11:47:00|          88.0|         null|       40.0|       29.94|          10.0|          Calm|           null|             null|            Clear|  false|false|   false|   false|    true|  false|  false|     false|  false|false|          false|         false|       false|           Day|           Day|              Day|                  Day|\n",
      "|A-42917|Source2|       2|2016-06-21 12:11:43|2016-06-21 12:56:43|         33.957775|-118.231056|   null|   null|         0.0|Accident on CA-42...|    Firestone Blvd|Los Angeles|Los Angeles|   CA|90002-1546|     US|US/Pacific|        KHHR|2016-06-21 11:53:00|          80.1|         null|       52.0|       29.96|          10.0|           ESE|            9.2|             null|            Clear|  false|false|    true|   false|   false|  false|  false|     false|  false|false|          false|          true|       false|           Day|           Day|              Day|                  Day|\n",
      "|A-42925|Source2|       3|2016-06-21 12:18:26|2016-06-21 13:01:00|         33.928162|-118.238976|   null|   null|         0.0|Right hand should...|           I-105 E|Los Angeles|Los Angeles|   CA|     90059|     US|US/Pacific|        KHHR|2016-06-21 11:53:00|          80.1|         null|       52.0|       29.96|          10.0|           ESE|            9.2|             null|            Clear|  false|false|   false|   false|   false|  false|  false|     false|  false|false|          false|         false|       false|           Day|           Day|              Day|                  Day|\n",
      "|A-42926|Source2|       2|2016-06-21 12:20:43|2016-06-21 13:04:00|         34.078476|  -118.2286|   null|   null|         0.0|Right hand should...|  Arroyo Seco Pkwy|Los Angeles|Los Angeles|   CA|     90012|     US|US/Pacific|        KCQT|2016-06-21 12:47:00|          84.0|         null|       49.0|       29.94|          10.0|      Variable|            3.5|             null|            Clear|  false|false|   false|   false|   false|  false|  false|     false|  false|false|          false|         false|       false|           Day|           Day|              Day|                  Day|\n",
      "|A-42940|Source2|       3|2016-06-21 12:42:25|2016-06-21 13:27:25|34.072959999999995|-118.219391|   null|   null|         0.0|Accident on I-5 S...|Golden State Fwy S|Los Angeles|Los Angeles|   CA|     90031|     US|US/Pacific|        KCQT|2016-06-21 12:47:00|          84.0|         null|       49.0|       29.94|          10.0|      Variable|            3.5|             null|            Clear|  false|false|   false|   false|   false|  false|  false|     false|  false|false|          false|         false|       false|           Day|           Day|              Day|                  Day|\n",
      "|A-42941|Source2|       2|2016-06-21 13:12:38|2016-06-21 13:57:38|         34.056087|-118.255882|   null|   null|         0.0|Gore point obstru...|          CA-110 N|Los Angeles|Los Angeles|   CA|     90012|     US|US/Pacific|        KCQT|2016-06-21 12:47:00|          84.0|         null|       49.0|       29.94|          10.0|      Variable|            3.5|             null|            Clear|  false|false|   false|   false|   false|  false|  false|     false|  false|false|          false|         false|       false|           Day|           Day|              Day|                  Day|\n",
      "|A-42942|Source2|       2|2016-06-21 13:07:43|2016-06-21 13:52:43|         34.076012|-118.231575|   null|   null|         0.0|Accident on CA-11...|    Pasadena Fwy S|Los Angeles|Los Angeles|   CA|     90012|     US|US/Pacific|        KCQT|2016-06-21 12:47:00|          84.0|         null|       49.0|       29.94|          10.0|      Variable|            3.5|             null|            Clear|  false|false|   false|   false|   false|  false|  false|     false|  false|false|          false|         false|       false|           Day|           Day|              Day|                  Day|\n",
      "|A-42945|Source2|       3|2016-06-21 13:17:18|2016-06-21 14:02:18|         34.087738|-118.475189|   null|   null|         0.0|Accident on I-405...|           I-405 N|Los Angeles|Los Angeles|   CA|     90049|     US|US/Pacific|        KSMO|2016-06-21 12:51:00|          79.0|         null|       58.0|       29.96|          10.0|            SW|            8.1|             null|            Clear|  false|false|   false|   false|   false|  false|  false|     false|  false|false|          false|         false|       false|           Day|           Day|              Day|                  Day|\n",
      "|A-42947|Source2|       2|2016-06-21 13:18:58|2016-06-21 14:03:58|           34.0509|-118.261429|   null|   null|         0.0|Accident on CA-11...|          CA-110 N|Los Angeles|Los Angeles|   CA|     90017|     US|US/Pacific|        KCQT|2016-06-21 13:47:00|          84.0|         null|       47.0|       29.94|          10.0|           SSE|            6.9|             null|            Clear|  false|false|   false|   false|    true|  false|  false|     false|  false|false|          false|         false|       false|           Day|           Day|              Day|                  Day|\n",
      "|A-42956|Source2|       2|2016-06-21 13:41:58|2016-06-21 14:26:58|          33.92371|-118.269554|   null|   null|         0.0|Accident on San P...|        E 120th St|Los Angeles|Los Angeles|   CA|90061-2829|     US|US/Pacific|        KHHR|2016-06-21 13:53:00|          79.0|         null|       54.0|       29.96|          10.0|           SSE|           11.5|             null|            Clear|  false|false|   false|   false|   false|  false|  false|     false|  false|false|          false|          true|       false|           Day|           Day|              Day|                  Day|\n",
      "|A-42959|Source2|       3|2016-06-21 13:44:48|2016-06-21 14:29:48|33.928940000000004|-118.280708|   null|   null|         0.0|One lane blocked ...|           I-105 W|Los Angeles|Los Angeles|   CA|     90061|     US|US/Pacific|        KHHR|2016-06-21 13:53:00|          79.0|         null|       54.0|       29.96|          10.0|           SSE|           11.5|             null|            Clear|  false|false|   false|   false|   false|  false|  false|     false|  false|false|          false|         false|       false|           Day|           Day|              Day|                  Day|\n",
      "|A-42963|Source2|       3|2016-06-21 13:52:57|2016-06-21 14:52:57|         33.927593|-118.265213|   null|   null|         0.0|Accident on I-105...|       Avalon Blvd|Los Angeles|Los Angeles|   CA|     90061|     US|US/Pacific|        KHHR|2016-06-21 13:53:00|          79.0|         null|       54.0|       29.96|          10.0|           SSE|           11.5|             null|            Clear|  false|false|   false|   false|   false|  false|   true|     false|   true|false|          false|         false|       false|           Day|           Day|              Day|                  Day|\n",
      "|A-42964|Source2|       2|2016-06-21 13:56:35|2016-06-21 14:41:35|         34.036362|-118.167702|   null|   null|         0.0|Accident on CA-60...|      Pomona Fwy W|Los Angeles|Los Angeles|   CA|     90022|     US|US/Pacific|        KCQT|2016-06-21 13:47:00|          84.0|         null|       47.0|       29.94|          10.0|           SSE|            6.9|             null|            Clear|  false|false|   false|   false|   false|  false|  false|     false|  false|false|          false|         false|       false|           Day|           Day|              Day|                  Day|\n",
      "+-------+-------+--------+-------------------+-------------------+------------------+-----------+-------+-------+------------+--------------------+------------------+-----------+-----------+-----+----------+-------+----------+------------+-------------------+--------------+-------------+-----------+------------+--------------+--------------+---------------+-----------------+-----------------+-------+-----+--------+--------+--------+-------+-------+----------+-------+-----+---------------+--------------+------------+--------------+--------------+-----------------+---------------------+\n",
      "only showing top 20 rows\n",
      "\n"
     ]
    }
   ],
   "source": [
    "# Importing data which has a header. Schema is automatically configured.\n",
    "df_la_accidents = spark.read.csv('LA_Accidents.csv', header=True, inferSchema=True)\n",
    "# Let's see the data. You'll notice nulls.\n",
    "df_la_accidents.show()"
   ]
  },
  {
   "cell_type": "code",
   "execution_count": 3,
   "id": "b562fca4",
   "metadata": {},
   "outputs": [
    {
     "name": "stdout",
     "output_type": "stream",
     "text": [
      "+-------+-------+--------+-------------------+-------------------+------------------+-----------+-------+-------+------------+--------------------+------------------+-----------+-----------+-----+----------+-------+----------+------------+-------------------+--------------+-------------+-----------+------------+--------------+--------------+---------------+-----------------+-----------------+-------+-----+--------+--------+--------+-------+-------+----------+-------+-----+---------------+--------------+------------+--------------+--------------+-----------------+---------------------+\n",
      "|     ID| Source|Severity|         Start_Time|           End_Time|         Start_Lat|  Start_Lng|End_Lat|End_Lng|Distance(mi)|         Description|            Street|       City|     County|State|   Zipcode|Country|  Timezone|Airport_Code|  Weather_Timestamp|Temperature(F)|Wind_Chill(F)|Humidity(%)|Pressure(in)|Visibility(mi)|Wind_Direction|Wind_Speed(mph)|Precipitation(in)|Weather_Condition|Amenity| Bump|Crossing|Give_Way|Junction|No_Exit|Railway|Roundabout|Station| Stop|Traffic_Calming|Traffic_Signal|Turning_Loop|Sunrise_Sunset|Civil_Twilight|Nautical_Twilight|Astronomical_Twilight|\n",
      "+-------+-------+--------+-------------------+-------------------+------------------+-----------+-------+-------+------------+--------------------+------------------+-----------+-----------+-----+----------+-------+----------+------------+-------------------+--------------+-------------+-----------+------------+--------------+--------------+---------------+-----------------+-----------------+-------+-----+--------+--------+--------+-------+-------+----------+-------+-----+---------------+--------------+------------+--------------+--------------+-----------------+---------------------+\n",
      "|A-42867|Source2|       2|2016-06-21 10:46:30|2016-06-21 11:27:00|         34.078926| -118.28904|   null|   null|         0.0|Right hand should...|          US-101 N|Los Angeles|Los Angeles|   CA|     90004|     US|US/Pacific|        KCQT|2016-06-21 10:47:00|          82.9|         null|       47.0|       29.95|          10.0|      Variable|            4.6|             null|            Clear|  false|false|   false|   false|    true|  false|  false|     false|  false|false|          false|         false|       false|           Day|           Day|              Day|                  Day|\n",
      "|A-42868|Source2|       3|2016-06-21 10:49:21|2016-06-21 11:34:21|         34.091179|-118.239471|   null|   null|         0.0|Accident on I-5 N...|Golden State Fwy S|Los Angeles|Los Angeles|   CA|     90031|     US|US/Pacific|        KCQT|2016-06-21 10:47:00|          82.9|         null|       47.0|       29.95|          10.0|      Variable|            4.6|             null|            Clear|  false|false|   false|   false|   false|  false|  false|     false|  false|false|          false|         false|       false|           Day|           Day|              Day|                  Day|\n",
      "|A-42882|Source2|       3|2016-06-21 10:51:45|2016-06-21 11:36:45|         34.037239|-118.309074|   null|   null|         0.0|Accident on I-10 ...|            I-10 W|Los Angeles|Los Angeles|   CA|     90018|     US|US/Pacific|        KCQT|2016-06-21 10:47:00|          82.9|         null|       47.0|       29.95|          10.0|      Variable|            4.6|             null|            Clear|  false|false|   false|   false|   false|  false|  false|     false|   true|false|          false|         false|       false|           Day|           Day|              Day|                  Day|\n",
      "|A-42884|Source2|       3|2016-06-21 10:56:24|2016-06-21 11:34:00|         34.027458| -118.27449|   null|   null|         0.0|Accident on I-110...|      Harbor Fwy N|Los Angeles|Los Angeles|   CA|     90007|     US|US/Pacific|        KCQT|2016-06-21 10:47:00|          82.9|         null|       47.0|       29.95|          10.0|      Variable|            4.6|             null|            Clear|  false|false|   false|   false|   false|  false|  false|     false|  false|false|          false|         false|       false|           Day|           Day|              Day|                  Day|\n",
      "|A-42899|Source2|       3|2016-06-21 11:30:46|2016-06-21 12:00:46|         33.947544|-118.279434|   null|   null|         0.0|Right hand should...|      Harbor Fwy N|Los Angeles|Los Angeles|   CA|     90003|     US|US/Pacific|        KHHR|2016-06-21 11:53:00|          80.1|         null|       52.0|       29.96|          10.0|           ESE|            9.2|             null|            Clear|  false|false|   false|   false|   false|  false|  false|     false|  false|false|          false|         false|       false|           Day|           Day|              Day|                  Day|\n",
      "|A-42913|Source2|       3|2016-06-21 11:59:09|2016-06-21 12:44:09|34.034721000000005|-118.344635|   null|   null|         0.0|#4 &amp; #5 lane ...|            I-10 W|Los Angeles|Los Angeles|   CA|     90016|     US|US/Pacific|        KSMO|2016-06-21 11:51:00|          79.0|         null|       58.0|       29.96|          10.0|            SW|            9.2|             null|            Clear|  false|false|   false|   false|   false|  false|  false|     false|  false|false|          false|         false|       false|           Day|           Day|              Day|                  Day|\n",
      "|A-42915|Source2|       3|2016-06-21 12:00:06|2016-06-21 12:42:00|         33.947437|-118.279312|   null|   null|         0.0|Slow traffic and ...|      Harbor Fwy N|Los Angeles|Los Angeles|   CA|     90003|     US|US/Pacific|        KHHR|2016-06-21 11:53:00|          80.1|         null|       52.0|       29.96|          10.0|           ESE|            9.2|             null|            Clear|  false|false|   false|   false|   false|  false|  false|     false|  false|false|          false|          true|       false|           Day|           Day|              Day|                  Day|\n",
      "|A-42916|Source2|       2|2016-06-21 12:12:04|2016-06-21 12:57:04|34.069759000000005|-118.236176|   null|   null|         0.0|Right hand should...|    Pasadena Fwy S|Los Angeles|Los Angeles|   CA|     90012|     US|US/Pacific|        KCQT|2016-06-21 11:47:00|          88.0|         null|       40.0|       29.94|          10.0|          Calm|           null|             null|            Clear|  false|false|   false|   false|    true|  false|  false|     false|  false|false|          false|         false|       false|           Day|           Day|              Day|                  Day|\n",
      "|A-42917|Source2|       2|2016-06-21 12:11:43|2016-06-21 12:56:43|         33.957775|-118.231056|   null|   null|         0.0|Accident on CA-42...|    Firestone Blvd|Los Angeles|Los Angeles|   CA|90002-1546|     US|US/Pacific|        KHHR|2016-06-21 11:53:00|          80.1|         null|       52.0|       29.96|          10.0|           ESE|            9.2|             null|            Clear|  false|false|    true|   false|   false|  false|  false|     false|  false|false|          false|          true|       false|           Day|           Day|              Day|                  Day|\n",
      "|A-42925|Source2|       3|2016-06-21 12:18:26|2016-06-21 13:01:00|         33.928162|-118.238976|   null|   null|         0.0|Right hand should...|           I-105 E|Los Angeles|Los Angeles|   CA|     90059|     US|US/Pacific|        KHHR|2016-06-21 11:53:00|          80.1|         null|       52.0|       29.96|          10.0|           ESE|            9.2|             null|            Clear|  false|false|   false|   false|   false|  false|  false|     false|  false|false|          false|         false|       false|           Day|           Day|              Day|                  Day|\n",
      "|A-42926|Source2|       2|2016-06-21 12:20:43|2016-06-21 13:04:00|         34.078476|  -118.2286|   null|   null|         0.0|Right hand should...|  Arroyo Seco Pkwy|Los Angeles|Los Angeles|   CA|     90012|     US|US/Pacific|        KCQT|2016-06-21 12:47:00|          84.0|         null|       49.0|       29.94|          10.0|      Variable|            3.5|             null|            Clear|  false|false|   false|   false|   false|  false|  false|     false|  false|false|          false|         false|       false|           Day|           Day|              Day|                  Day|\n",
      "|A-42940|Source2|       3|2016-06-21 12:42:25|2016-06-21 13:27:25|34.072959999999995|-118.219391|   null|   null|         0.0|Accident on I-5 S...|Golden State Fwy S|Los Angeles|Los Angeles|   CA|     90031|     US|US/Pacific|        KCQT|2016-06-21 12:47:00|          84.0|         null|       49.0|       29.94|          10.0|      Variable|            3.5|             null|            Clear|  false|false|   false|   false|   false|  false|  false|     false|  false|false|          false|         false|       false|           Day|           Day|              Day|                  Day|\n",
      "|A-42941|Source2|       2|2016-06-21 13:12:38|2016-06-21 13:57:38|         34.056087|-118.255882|   null|   null|         0.0|Gore point obstru...|          CA-110 N|Los Angeles|Los Angeles|   CA|     90012|     US|US/Pacific|        KCQT|2016-06-21 12:47:00|          84.0|         null|       49.0|       29.94|          10.0|      Variable|            3.5|             null|            Clear|  false|false|   false|   false|   false|  false|  false|     false|  false|false|          false|         false|       false|           Day|           Day|              Day|                  Day|\n",
      "|A-42942|Source2|       2|2016-06-21 13:07:43|2016-06-21 13:52:43|         34.076012|-118.231575|   null|   null|         0.0|Accident on CA-11...|    Pasadena Fwy S|Los Angeles|Los Angeles|   CA|     90012|     US|US/Pacific|        KCQT|2016-06-21 12:47:00|          84.0|         null|       49.0|       29.94|          10.0|      Variable|            3.5|             null|            Clear|  false|false|   false|   false|   false|  false|  false|     false|  false|false|          false|         false|       false|           Day|           Day|              Day|                  Day|\n",
      "|A-42945|Source2|       3|2016-06-21 13:17:18|2016-06-21 14:02:18|         34.087738|-118.475189|   null|   null|         0.0|Accident on I-405...|           I-405 N|Los Angeles|Los Angeles|   CA|     90049|     US|US/Pacific|        KSMO|2016-06-21 12:51:00|          79.0|         null|       58.0|       29.96|          10.0|            SW|            8.1|             null|            Clear|  false|false|   false|   false|   false|  false|  false|     false|  false|false|          false|         false|       false|           Day|           Day|              Day|                  Day|\n",
      "|A-42947|Source2|       2|2016-06-21 13:18:58|2016-06-21 14:03:58|           34.0509|-118.261429|   null|   null|         0.0|Accident on CA-11...|          CA-110 N|Los Angeles|Los Angeles|   CA|     90017|     US|US/Pacific|        KCQT|2016-06-21 13:47:00|          84.0|         null|       47.0|       29.94|          10.0|           SSE|            6.9|             null|            Clear|  false|false|   false|   false|    true|  false|  false|     false|  false|false|          false|         false|       false|           Day|           Day|              Day|                  Day|\n",
      "|A-42956|Source2|       2|2016-06-21 13:41:58|2016-06-21 14:26:58|          33.92371|-118.269554|   null|   null|         0.0|Accident on San P...|        E 120th St|Los Angeles|Los Angeles|   CA|90061-2829|     US|US/Pacific|        KHHR|2016-06-21 13:53:00|          79.0|         null|       54.0|       29.96|          10.0|           SSE|           11.5|             null|            Clear|  false|false|   false|   false|   false|  false|  false|     false|  false|false|          false|          true|       false|           Day|           Day|              Day|                  Day|\n",
      "|A-42959|Source2|       3|2016-06-21 13:44:48|2016-06-21 14:29:48|33.928940000000004|-118.280708|   null|   null|         0.0|One lane blocked ...|           I-105 W|Los Angeles|Los Angeles|   CA|     90061|     US|US/Pacific|        KHHR|2016-06-21 13:53:00|          79.0|         null|       54.0|       29.96|          10.0|           SSE|           11.5|             null|            Clear|  false|false|   false|   false|   false|  false|  false|     false|  false|false|          false|         false|       false|           Day|           Day|              Day|                  Day|\n",
      "|A-42963|Source2|       3|2016-06-21 13:52:57|2016-06-21 14:52:57|         33.927593|-118.265213|   null|   null|         0.0|Accident on I-105...|       Avalon Blvd|Los Angeles|Los Angeles|   CA|     90061|     US|US/Pacific|        KHHR|2016-06-21 13:53:00|          79.0|         null|       54.0|       29.96|          10.0|           SSE|           11.5|             null|            Clear|  false|false|   false|   false|   false|  false|   true|     false|   true|false|          false|         false|       false|           Day|           Day|              Day|                  Day|\n",
      "|A-42964|Source2|       2|2016-06-21 13:56:35|2016-06-21 14:41:35|         34.036362|-118.167702|   null|   null|         0.0|Accident on CA-60...|      Pomona Fwy W|Los Angeles|Los Angeles|   CA|     90022|     US|US/Pacific|        KCQT|2016-06-21 13:47:00|          84.0|         null|       47.0|       29.94|          10.0|           SSE|            6.9|             null|            Clear|  false|false|   false|   false|   false|  false|  false|     false|  false|false|          false|         false|       false|           Day|           Day|              Day|                  Day|\n",
      "+-------+-------+--------+-------------------+-------------------+------------------+-----------+-------+-------+------------+--------------------+------------------+-----------+-----------+-----+----------+-------+----------+------------+-------------------+--------------+-------------+-----------+------------+--------------+--------------+---------------+-----------------+-----------------+-------+-----+--------+--------+--------+-------+-------+----------+-------+-----+---------------+--------------+------------+--------------+--------------+-----------------+---------------------+\n",
      "only showing top 20 rows\n",
      "\n"
     ]
    }
   ],
   "source": [
    "# Selecting Items/Rows. \n",
    "df_la_accidents.createOrReplaceTempView('la_accidents')\n",
    "df_la_accidents = spark.sql(\"SELECT * FROM la_accidents WHERE city = 'Los Angeles'\")\n",
    "df_la_accidents.show()"
   ]
  },
  {
   "cell_type": "code",
   "execution_count": 4,
   "id": "9dced2ca",
   "metadata": {},
   "outputs": [],
   "source": [
    "#Selecting Attributes/Columns\n",
    "\n",
    "selected_attribute_list=['ID', \n",
    "                               'Start_Time', 'End_Time',\n",
    "                               'Source', 'Severity', \n",
    "                               'Wind_Direction', 'Weather_Condition', 'Amenity',\n",
    "                               'Bump', 'Crossing', 'Give_Way', 'Junction',\n",
    "                               'No_Exit', 'Railway', 'Roundabout', 'Station', \n",
    "                               'Stop', 'Traffic_Calming', 'Traffic_Signal', \n",
    "                               'Turning_Loop', 'Sunrise_Sunset', 'Civil_Twilight', \n",
    "                               'Nautical_Twilight', 'Astronomical_Twilight',\n",
    "                               'Distance(mi)', 'Temperature(F)', 'Wind_Chill(F)', \n",
    "                               'Humidity(%)', 'Pressure(in)', 'Visibility(mi)', \n",
    "                               'Wind_Speed(mph)', 'Precipitation(in)']\n",
    "# deleted features :'Start_Lng', 'End_Lat', 'Start_Lat', 'End_Lng', 'Description','Weather_Timestamp',\n",
    "# 'City', 'County',  'State',  'Country', 'Timezone', 'Airport_Code','Zipcode', 'Street',\n",
    "df_la_accidents = df_la_accidents.select(selected_attribute_list)"
   ]
  },
  {
   "cell_type": "markdown",
   "id": "f1e2d1da",
   "metadata": {},
   "source": [
    "## 3.2\tData Cleaning"
   ]
  },
  {
   "cell_type": "code",
   "execution_count": 5,
   "id": "51aad80b",
   "metadata": {},
   "outputs": [
    {
     "name": "stdout",
     "output_type": "stream",
     "text": [
      "root\n",
      " |-- ID: string (nullable = true)\n",
      " |-- Start_Time: string (nullable = true)\n",
      " |-- End_Time: string (nullable = true)\n",
      " |-- Source: string (nullable = true)\n",
      " |-- Severity: integer (nullable = true)\n",
      " |-- Wind_Direction: string (nullable = true)\n",
      " |-- Weather_Condition: string (nullable = true)\n",
      " |-- Amenity: boolean (nullable = true)\n",
      " |-- Bump: boolean (nullable = true)\n",
      " |-- Crossing: boolean (nullable = true)\n",
      " |-- Give_Way: boolean (nullable = true)\n",
      " |-- Junction: boolean (nullable = true)\n",
      " |-- No_Exit: boolean (nullable = true)\n",
      " |-- Railway: boolean (nullable = true)\n",
      " |-- Roundabout: boolean (nullable = true)\n",
      " |-- Station: boolean (nullable = true)\n",
      " |-- Stop: boolean (nullable = true)\n",
      " |-- Traffic_Calming: boolean (nullable = true)\n",
      " |-- Traffic_Signal: boolean (nullable = true)\n",
      " |-- Turning_Loop: boolean (nullable = true)\n",
      " |-- Sunrise_Sunset: string (nullable = true)\n",
      " |-- Civil_Twilight: string (nullable = true)\n",
      " |-- Nautical_Twilight: string (nullable = true)\n",
      " |-- Astronomical_Twilight: string (nullable = true)\n",
      " |-- Distance(mi): double (nullable = true)\n",
      " |-- Temperature(F): double (nullable = true)\n",
      " |-- Wind_Chill(F): double (nullable = true)\n",
      " |-- Humidity(%): double (nullable = true)\n",
      " |-- Pressure(in): double (nullable = true)\n",
      " |-- Visibility(mi): double (nullable = true)\n",
      " |-- Wind_Speed(mph): double (nullable = true)\n",
      " |-- Precipitation(in): double (nullable = true)\n",
      "\n"
     ]
    },
    {
     "name": "stderr",
     "output_type": "stream",
     "text": [
      "\r",
      "[Stage 4:>                                                          (0 + 2) / 2]\r"
     ]
    },
    {
     "name": "stdout",
     "output_type": "stream",
     "text": [
      "+---+----------+--------+------+--------+--------------+-----------------+-------+----+--------+--------+--------+-------+-------+----------+-------+----+---------------+--------------+------------+--------------+--------------+-----------------+---------------------+------------+--------------+-------------+-----------+------------+--------------+---------------+-----------------+\n",
      "| ID|Start_Time|End_Time|Source|Severity|Wind_Direction|Weather_Condition|Amenity|Bump|Crossing|Give_Way|Junction|No_Exit|Railway|Roundabout|Station|Stop|Traffic_Calming|Traffic_Signal|Turning_Loop|Sunrise_Sunset|Civil_Twilight|Nautical_Twilight|Astronomical_Twilight|Distance(mi)|Temperature(F)|Wind_Chill(F)|Humidity(%)|Pressure(in)|Visibility(mi)|Wind_Speed(mph)|Precipitation(in)|\n",
      "+---+----------+--------+------+--------+--------------+-----------------+-------+----+--------+--------+--------+-------+-------+----------+-------+----+---------------+--------------+------------+--------------+--------------+-----------------+---------------------+------------+--------------+-------------+-----------+------------+--------------+---------------+-----------------+\n",
      "|  0|         0|       0|     0|       0|          2431|              650|      0|   0|       0|       0|       0|      0|      0|         0|      0|   0|              0|             0|           0|             0|             0|                0|                    0|           0|          1105|        52064|       1180|         965|           684|          23989|            47471|\n",
      "+---+----------+--------+------+--------+--------------+-----------------+-------+----+--------+--------+--------+-------+-------+----------+-------+----+---------------+--------------+------------+--------------+--------------+-----------------+---------------------+------------+--------------+-------------+-----------+------------+--------------+---------------+-----------------+\n",
      "\n"
     ]
    },
    {
     "name": "stderr",
     "output_type": "stream",
     "text": [
      "\r",
      "                                                                                \r"
     ]
    }
   ],
   "source": [
    "# show datatypes and null values\n",
    "from pyspark.sql.functions import col, sum\n",
    "\n",
    "df_la_accidents.printSchema()\n",
    "null_statistics = df_la_accidents.select([sum(col(c).isNull().cast(\"int\")).alias(c) for c in df_la_accidents.columns])\n",
    "null_statistics.show()"
   ]
  },
  {
   "cell_type": "code",
   "execution_count": 6,
   "id": "6f2d29c8",
   "metadata": {},
   "outputs": [
    {
     "name": "stderr",
     "output_type": "stream",
     "text": [
      "[Stage 34:>                                                         (0 + 2) / 2]\r"
     ]
    },
    {
     "name": "stdout",
     "output_type": "stream",
     "text": [
      "+---+----------+--------+------+--------+--------------+-----------------+-------+----+--------+--------+--------+-------+-------+----------+-------+----+---------------+--------------+------------+--------------+--------------+-----------------+---------------------+------------+--------------+-------------+-----------+------------+--------------+---------------+-----------------+\n",
      "| ID|Start_Time|End_Time|Source|Severity|Wind_Direction|Weather_Condition|Amenity|Bump|Crossing|Give_Way|Junction|No_Exit|Railway|Roundabout|Station|Stop|Traffic_Calming|Traffic_Signal|Turning_Loop|Sunrise_Sunset|Civil_Twilight|Nautical_Twilight|Astronomical_Twilight|Distance(mi)|Temperature(F)|Wind_Chill(F)|Humidity(%)|Pressure(in)|Visibility(mi)|Wind_Speed(mph)|Precipitation(in)|\n",
      "+---+----------+--------+------+--------+--------------+-----------------+-------+----+--------+--------+--------+-------+-------+----------+-------+----+---------------+--------------+------------+--------------+--------------+-----------------+---------------------+------------+--------------+-------------+-----------+------------+--------------+---------------+-----------------+\n",
      "|  0|         0|       0|     0|       0|             0|                0|      0|   0|       0|       0|       0|      0|      0|         0|      0|   0|              0|             0|           0|             0|             0|                0|                    0|           0|             0|            0|          0|           0|             0|              0|                0|\n",
      "+---+----------+--------+------+--------+--------------+-----------------+-------+----+--------+--------+--------+-------+-------+----------+-------+----+---------------+--------------+------------+--------------+--------------+-----------------+---------------------+------------+--------------+-------------+-----------+------------+--------------+---------------+-----------------+\n",
      "\n"
     ]
    },
    {
     "name": "stderr",
     "output_type": "stream",
     "text": [
      "\r",
      "                                                                                \r"
     ]
    }
   ],
   "source": [
    "# using mean values to fill nan \n",
    "from pyspark.sql.functions import mean,count\n",
    "for column_name in ['Temperature(F)', 'Wind_Chill(F)','Humidity(%)','Pressure(in)',\n",
    "                   'Visibility(mi)','Wind_Speed(mph)','Precipitation(in)']:\n",
    "    mean_value = df_la_accidents.select(mean(df_la_accidents[column_name])).collect()[0][0]\n",
    "    df_la_accidents = df_la_accidents.na.fill(mean_value, subset=[column_name])\n",
    "    \n",
    "# using mode values to fill nan \n",
    "for column_name in ['Wind_Direction', 'Weather_Condition']:\n",
    "    mode_result = df_la_accidents.groupBy(column_name).agg(count(\"*\").alias(\"count\")).sort(col(\"count\").desc()).first()\n",
    "    mode_value = mode_result[column_name]\n",
    "    df_la_accidents = df_la_accidents.na.fill(mode_value, subset=[column_name])\n",
    "    \n",
    "# show df after filling na\n",
    "null_statistics = df_la_accidents.select([sum(col(c).isNull().cast(\"int\")).alias(c) for c in df_la_accidents.columns])\n",
    "null_statistics.show()"
   ]
  },
  {
   "cell_type": "code",
   "execution_count": 7,
   "id": "407e7f68",
   "metadata": {},
   "outputs": [
    {
     "name": "stdout",
     "output_type": "stream",
     "text": [
      "Column: ID, Data: [0]\n",
      "Column: Start_Time, Data: [0]\n",
      "Column: End_Time, Data: [0]\n",
      "Column: Source, Data: [0]\n",
      "Column: Severity, Data: [0]\n",
      "Column: Wind_Direction, Data: [0]\n",
      "Column: Weather_Condition, Data: [0]\n",
      "Column: Amenity, Data: [0]\n",
      "Column: Bump, Data: [0]\n",
      "Column: Crossing, Data: [0]\n",
      "Column: Give_Way, Data: [0]\n",
      "Column: Junction, Data: [0]\n",
      "Column: No_Exit, Data: [0]\n",
      "Column: Railway, Data: [0]\n",
      "Column: Roundabout, Data: [0]\n",
      "Column: Station, Data: [0]\n",
      "Column: Stop, Data: [0]\n",
      "Column: Traffic_Calming, Data: [0]\n",
      "Column: Traffic_Signal, Data: [0]\n",
      "Column: Turning_Loop, Data: [0]\n",
      "Column: Sunrise_Sunset, Data: [0]\n",
      "Column: Civil_Twilight, Data: [0]\n",
      "Column: Nautical_Twilight, Data: [0]\n",
      "Column: Astronomical_Twilight, Data: [0]\n",
      "Column: Distance(mi), Data: [0]\n",
      "Column: Temperature(F), Data: [0]\n",
      "Column: Wind_Chill(F), Data: [0]\n",
      "Column: Humidity(%), Data: [0]\n",
      "Column: Pressure(in), Data: [0]\n",
      "Column: Visibility(mi), Data: [0]\n",
      "Column: Wind_Speed(mph), Data: [0]\n",
      "Column: Precipitation(in), Data: [0]\n"
     ]
    }
   ],
   "source": [
    "for column_name in null_statistics.columns:\n",
    "    column_data = null_statistics.select(column_name).rdd.flatMap(lambda x: x).collect()\n",
    "    print(f\"Column: {column_name}, Data: {column_data}\")\n"
   ]
  },
  {
   "cell_type": "code",
   "execution_count": 8,
   "id": "60360d66",
   "metadata": {},
   "outputs": [
    {
     "name": "stderr",
     "output_type": "stream",
     "text": [
      "\r",
      "[Stage 136:>                                                        (0 + 1) / 1]\r"
     ]
    },
    {
     "name": "stdout",
     "output_type": "stream",
     "text": [
      "+-------+-------------------+-------------------+-------+--------+--------------+-----------------+-------+-----+--------+--------+--------+-------+-------+----------+-------+-----+---------------+--------------+------------+--------------+--------------+-----------------+---------------------+------------+--------------+-----------------+-----------+------------+--------------+------------------+--------------------+\n",
      "|     ID|         Start_Time|           End_Time| Source|Severity|Wind_Direction|Weather_Condition|Amenity| Bump|Crossing|Give_Way|Junction|No_Exit|Railway|Roundabout|Station| Stop|Traffic_Calming|Traffic_Signal|Turning_Loop|Sunrise_Sunset|Civil_Twilight|Nautical_Twilight|Astronomical_Twilight|Distance(mi)|Temperature(F)|    Wind_Chill(F)|Humidity(%)|Pressure(in)|Visibility(mi)|   Wind_Speed(mph)|   Precipitation(in)|\n",
      "+-------+-------------------+-------------------+-------+--------+--------------+-----------------+-------+-----+--------+--------+--------+-------+-------+----------+-------+-----+---------------+--------------+------------+--------------+--------------+-----------------+---------------------+------------+--------------+-----------------+-----------+------------+--------------+------------------+--------------------+\n",
      "|A-42867|2016-06-21 10:46:30|2016-06-21 11:27:00|Source2|       2|      Variable|            Clear|  false|false|   false|   false|    true|  false|  false|     false|  false|false|          false|         false|       false|           Day|           Day|              Day|                  Day|         0.0|          82.9|64.92501173068268|       47.0|       29.95|          10.0|               4.6|0.003434507429829413|\n",
      "|A-42868|2016-06-21 10:49:21|2016-06-21 11:34:21|Source2|       3|      Variable|            Clear|  false|false|   false|   false|   false|  false|  false|     false|  false|false|          false|         false|       false|           Day|           Day|              Day|                  Day|         0.0|          82.9|64.92501173068268|       47.0|       29.95|          10.0|               4.6|0.003434507429829413|\n",
      "|A-42882|2016-06-21 10:51:45|2016-06-21 11:36:45|Source2|       3|      Variable|            Clear|  false|false|   false|   false|   false|  false|  false|     false|   true|false|          false|         false|       false|           Day|           Day|              Day|                  Day|         0.0|          82.9|64.92501173068268|       47.0|       29.95|          10.0|               4.6|0.003434507429829413|\n",
      "|A-42884|2016-06-21 10:56:24|2016-06-21 11:34:00|Source2|       3|      Variable|            Clear|  false|false|   false|   false|   false|  false|  false|     false|  false|false|          false|         false|       false|           Day|           Day|              Day|                  Day|         0.0|          82.9|64.92501173068268|       47.0|       29.95|          10.0|               4.6|0.003434507429829413|\n",
      "|A-42899|2016-06-21 11:30:46|2016-06-21 12:00:46|Source2|       3|           ESE|            Clear|  false|false|   false|   false|   false|  false|  false|     false|  false|false|          false|         false|       false|           Day|           Day|              Day|                  Day|         0.0|          80.1|64.92501173068268|       52.0|       29.96|          10.0|               9.2|0.003434507429829413|\n",
      "|A-42913|2016-06-21 11:59:09|2016-06-21 12:44:09|Source2|       3|            SW|            Clear|  false|false|   false|   false|   false|  false|  false|     false|  false|false|          false|         false|       false|           Day|           Day|              Day|                  Day|         0.0|          79.0|64.92501173068268|       58.0|       29.96|          10.0|               9.2|0.003434507429829413|\n",
      "|A-42915|2016-06-21 12:00:06|2016-06-21 12:42:00|Source2|       3|           ESE|            Clear|  false|false|   false|   false|   false|  false|  false|     false|  false|false|          false|          true|       false|           Day|           Day|              Day|                  Day|         0.0|          80.1|64.92501173068268|       52.0|       29.96|          10.0|               9.2|0.003434507429829413|\n",
      "|A-42916|2016-06-21 12:12:04|2016-06-21 12:57:04|Source2|       2|          Calm|            Clear|  false|false|   false|   false|    true|  false|  false|     false|  false|false|          false|         false|       false|           Day|           Day|              Day|                  Day|         0.0|          88.0|64.92501173068268|       40.0|       29.94|          10.0|3.9225702253550883|0.003434507429829413|\n",
      "|A-42917|2016-06-21 12:11:43|2016-06-21 12:56:43|Source2|       2|           ESE|            Clear|  false|false|    true|   false|   false|  false|  false|     false|  false|false|          false|          true|       false|           Day|           Day|              Day|                  Day|         0.0|          80.1|64.92501173068268|       52.0|       29.96|          10.0|               9.2|0.003434507429829413|\n",
      "|A-42925|2016-06-21 12:18:26|2016-06-21 13:01:00|Source2|       3|           ESE|            Clear|  false|false|   false|   false|   false|  false|  false|     false|  false|false|          false|         false|       false|           Day|           Day|              Day|                  Day|         0.0|          80.1|64.92501173068268|       52.0|       29.96|          10.0|               9.2|0.003434507429829413|\n",
      "|A-42926|2016-06-21 12:20:43|2016-06-21 13:04:00|Source2|       2|      Variable|            Clear|  false|false|   false|   false|   false|  false|  false|     false|  false|false|          false|         false|       false|           Day|           Day|              Day|                  Day|         0.0|          84.0|64.92501173068268|       49.0|       29.94|          10.0|               3.5|0.003434507429829413|\n",
      "|A-42940|2016-06-21 12:42:25|2016-06-21 13:27:25|Source2|       3|      Variable|            Clear|  false|false|   false|   false|   false|  false|  false|     false|  false|false|          false|         false|       false|           Day|           Day|              Day|                  Day|         0.0|          84.0|64.92501173068268|       49.0|       29.94|          10.0|               3.5|0.003434507429829413|\n",
      "|A-42941|2016-06-21 13:12:38|2016-06-21 13:57:38|Source2|       2|      Variable|            Clear|  false|false|   false|   false|   false|  false|  false|     false|  false|false|          false|         false|       false|           Day|           Day|              Day|                  Day|         0.0|          84.0|64.92501173068268|       49.0|       29.94|          10.0|               3.5|0.003434507429829413|\n",
      "|A-42942|2016-06-21 13:07:43|2016-06-21 13:52:43|Source2|       2|      Variable|            Clear|  false|false|   false|   false|   false|  false|  false|     false|  false|false|          false|         false|       false|           Day|           Day|              Day|                  Day|         0.0|          84.0|64.92501173068268|       49.0|       29.94|          10.0|               3.5|0.003434507429829413|\n",
      "|A-42945|2016-06-21 13:17:18|2016-06-21 14:02:18|Source2|       3|            SW|            Clear|  false|false|   false|   false|   false|  false|  false|     false|  false|false|          false|         false|       false|           Day|           Day|              Day|                  Day|         0.0|          79.0|64.92501173068268|       58.0|       29.96|          10.0|               8.1|0.003434507429829413|\n",
      "|A-42947|2016-06-21 13:18:58|2016-06-21 14:03:58|Source2|       2|           SSE|            Clear|  false|false|   false|   false|    true|  false|  false|     false|  false|false|          false|         false|       false|           Day|           Day|              Day|                  Day|         0.0|          84.0|64.92501173068268|       47.0|       29.94|          10.0|               6.9|0.003434507429829413|\n",
      "|A-42956|2016-06-21 13:41:58|2016-06-21 14:26:58|Source2|       2|           SSE|            Clear|  false|false|   false|   false|   false|  false|  false|     false|  false|false|          false|          true|       false|           Day|           Day|              Day|                  Day|         0.0|          79.0|64.92501173068268|       54.0|       29.96|          10.0|              11.5|0.003434507429829413|\n",
      "|A-42959|2016-06-21 13:44:48|2016-06-21 14:29:48|Source2|       3|           SSE|            Clear|  false|false|   false|   false|   false|  false|  false|     false|  false|false|          false|         false|       false|           Day|           Day|              Day|                  Day|         0.0|          79.0|64.92501173068268|       54.0|       29.96|          10.0|              11.5|0.003434507429829413|\n",
      "|A-42963|2016-06-21 13:52:57|2016-06-21 14:52:57|Source2|       3|           SSE|            Clear|  false|false|   false|   false|   false|  false|   true|     false|   true|false|          false|         false|       false|           Day|           Day|              Day|                  Day|         0.0|          79.0|64.92501173068268|       54.0|       29.96|          10.0|              11.5|0.003434507429829413|\n",
      "|A-42964|2016-06-21 13:56:35|2016-06-21 14:41:35|Source2|       2|           SSE|            Clear|  false|false|   false|   false|   false|  false|  false|     false|  false|false|          false|         false|       false|           Day|           Day|              Day|                  Day|         0.0|          84.0|64.92501173068268|       47.0|       29.94|          10.0|               6.9|0.003434507429829413|\n",
      "+-------+-------------------+-------------------+-------+--------+--------------+-----------------+-------+-----+--------+--------+--------+-------+-------+----------+-------+-----+---------------+--------------+------------+--------------+--------------+-----------------+---------------------+------------+--------------+-----------------+-----------+------------+--------------+------------------+--------------------+\n",
      "only showing top 20 rows\n",
      "\n"
     ]
    },
    {
     "name": "stderr",
     "output_type": "stream",
     "text": [
      "\r",
      "                                                                                \r"
     ]
    }
   ],
   "source": [
    "# Dealing with extreme values 'Distance(mi)'\n",
    "# Dealing with outliers filling with random value following the original distribution\n",
    "\n",
    "import pyspark.sql.functions as F\n",
    "from pyspark.sql import SparkSession\n",
    "from pyspark.sql.types import DoubleType\n",
    "from pyspark.sql.functions import udf\n",
    "import numpy as np\n",
    "import matplotlib.pyplot as plt\n",
    "\n",
    "# Define the threshold for outliers\n",
    "threshold = 1.0\n",
    "\n",
    "# Identify outliers\n",
    "outliers = df_la_accidents.filter(df_la_accidents[\"Distance(mi)\"] > threshold)\n",
    "\n",
    "# Calculate mean and standard deviation of non-outliers\n",
    "non_outliers_stats = df_la_accidents.filter(df_la_accidents[\"Distance(mi)\"] <= threshold).agg(\n",
    "    F.mean(\"Distance(mi)\").alias(\"mean\"),\n",
    "    F.stddev(\"Distance(mi)\").alias(\"stddev\")\n",
    ").collect()\n",
    "\n",
    "non_outliers_mean = non_outliers_stats[0][\"mean\"]\n",
    "non_outliers_stddev = non_outliers_stats[0][\"stddev\"]\n",
    "\n",
    "# Create a user-defined function (UDF) to generate random values following the original distribution\n",
    "generate_random_udf = udf(\n",
    "    lambda _: round(float(np.abs(np.random.normal(loc=non_outliers_mean, scale=non_outliers_stddev))),1), DoubleType())\n",
    "\n",
    "\n",
    "df_la_accidents = df_la_accidents.withColumn(\"Distance(mi)\", F.when(df_la_accidents[\"Distance(mi)\"] > threshold, \n",
    "                           generate_random_udf(F.lit(0))).otherwise(df_la_accidents[\"Distance(mi)\"]))\n",
    "# Show the DataFrame after replacing outliers\n",
    "df_la_accidents.show()"
   ]
  },
  {
   "cell_type": "code",
   "execution_count": 9,
   "id": "42e309fd",
   "metadata": {
    "scrolled": false
   },
   "outputs": [
    {
     "name": "stderr",
     "output_type": "stream",
     "text": [
      "                                                                                \r"
     ]
    },
    {
     "data": {
      "image/png": "[encoded data removed]",
      "text/plain": [
       "<Figure size 576x432 with 1 Axes>"
      ]
     },
     "metadata": {
      "needs_background": "light"
     },
     "output_type": "display_data"
    }
   ],
   "source": [
    "# Plot distribution of Distance(mi)\n",
    "continuous_attributes = ['Distance(mi)']\n",
    "plt.figure(figsize=(8, 6 * len(continuous_attributes)))\n",
    "\n",
    "for i, column in enumerate(continuous_attributes):\n",
    "    plt.subplot(len(continuous_attributes), 1, i + 1)\n",
    "    ax = plt.gca()\n",
    "    df_pd = df_la_accidents.select(column).toPandas()\n",
    "    ax.hist(df_pd[column], color='skyblue')\n",
    "    ax.set_ylabel('Frequency')\n",
    "    ax.set_title(f'Data Distribution for {column}')\n",
    "\n",
    "plt.tight_layout()\n",
    "plt.show()\n"
   ]
  },
  {
   "cell_type": "code",
   "execution_count": 10,
   "id": "5e19257b",
   "metadata": {},
   "outputs": [
    {
     "data": {
      "image/png": "[encoded data removed]",
      "text/plain": [
       "<Figure size 576x432 with 1 Axes>"
      ]
     },
     "metadata": {
      "needs_background": "light"
     },
     "output_type": "display_data"
    }
   ],
   "source": [
    "# show distribution of wind direction\n",
    "category_attributes = ['Wind_Direction']\n",
    "plt.figure(figsize=(8, 6 * len(category_attributes)))\n",
    "for i, column in enumerate(category_attributes):\n",
    "    plt.subplot(len(category_attributes), 1, i + 1)\n",
    "    ax = plt.gca()\n",
    "    \n",
    "    value_counts = df_la_accidents.groupBy(column).count().orderBy(F.asc(\"count\")).toPandas()\n",
    "    ax.barh(value_counts[column], value_counts[\"count\"], color='skyblue')\n",
    "    ax.set_ylabel('Frequency')\n",
    "    ax.set_title(f'Data Distribution for {column}')\n",
    "    \n",
    "plt.tight_layout()\n",
    "plt.show()"
   ]
  },
  {
   "cell_type": "code",
   "execution_count": 11,
   "id": "97e4c65e",
   "metadata": {},
   "outputs": [],
   "source": [
    "# Replace coding inconsistencies in the 'Wind_Direction' column\n",
    "value_mapping = {'East': 'E', 'West': 'W',\"North\":\"N\",\"South\":\"S\",\"Variable\":\"V\",\"Calm\":\"CALM\"}\n",
    "\n",
    "for original, replacement in value_mapping.items():\n",
    "    df_la_accidents = df_la_accidents.withColumn(\n",
    "        \"Wind_Direction\", F.when(df_la_accidents[\"Wind_Direction\"] == original, replacement).otherwise(\n",
    "            df_la_accidents[\"Wind_Direction\"]))"
   ]
  },
  {
   "cell_type": "markdown",
   "id": "6ef1b9cd",
   "metadata": {},
   "source": [
    "## 3.3 Data Constructing"
   ]
  },
  {
   "cell_type": "code",
   "execution_count": 12,
   "id": "2862a1ec",
   "metadata": {},
   "outputs": [
    {
     "name": "stdout",
     "output_type": "stream",
     "text": [
      "+-------+-------------------+-------------------+-------+--------+--------------+-----------------+-------+-----+--------+--------+--------+-------+-------+----------+-------+-----+---------------+--------------+------------+--------------+--------------+-----------------+---------------------+------------+--------------+-----------------+-----------+------------+--------------+------------------+--------------------+-------+----+\n",
      "|     ID|         Start_Time|           End_Time| Source|Severity|Wind_Direction|Weather_Condition|Amenity| Bump|Crossing|Give_Way|Junction|No_Exit|Railway|Roundabout|Station| Stop|Traffic_Calming|Traffic_Signal|Turning_Loop|Sunrise_Sunset|Civil_Twilight|Nautical_Twilight|Astronomical_Twilight|Distance(mi)|Temperature(F)|    Wind_Chill(F)|Humidity(%)|Pressure(in)|Visibility(mi)|   Wind_Speed(mph)|   Precipitation(in)|Weekday|Hour|\n",
      "+-------+-------------------+-------------------+-------+--------+--------------+-----------------+-------+-----+--------+--------+--------+-------+-------+----------+-------+-----+---------------+--------------+------------+--------------+--------------+-----------------+---------------------+------------+--------------+-----------------+-----------+------------+--------------+------------------+--------------------+-------+----+\n",
      "|A-42867|2016-06-21 10:46:30|2016-06-21 11:27:00|Source2|       2|             V|            Clear|  false|false|   false|   false|    true|  false|  false|     false|  false|false|          false|         false|       false|           Day|           Day|              Day|                  Day|         0.0|          82.9|64.92501173068268|       47.0|       29.95|          10.0|               4.6|0.003434507429829413|      3|  10|\n",
      "|A-42868|2016-06-21 10:49:21|2016-06-21 11:34:21|Source2|       3|             V|            Clear|  false|false|   false|   false|   false|  false|  false|     false|  false|false|          false|         false|       false|           Day|           Day|              Day|                  Day|         0.0|          82.9|64.92501173068268|       47.0|       29.95|          10.0|               4.6|0.003434507429829413|      3|  10|\n",
      "|A-42882|2016-06-21 10:51:45|2016-06-21 11:36:45|Source2|       3|             V|            Clear|  false|false|   false|   false|   false|  false|  false|     false|   true|false|          false|         false|       false|           Day|           Day|              Day|                  Day|         0.0|          82.9|64.92501173068268|       47.0|       29.95|          10.0|               4.6|0.003434507429829413|      3|  10|\n",
      "|A-42884|2016-06-21 10:56:24|2016-06-21 11:34:00|Source2|       3|             V|            Clear|  false|false|   false|   false|   false|  false|  false|     false|  false|false|          false|         false|       false|           Day|           Day|              Day|                  Day|         0.0|          82.9|64.92501173068268|       47.0|       29.95|          10.0|               4.6|0.003434507429829413|      3|  10|\n",
      "|A-42899|2016-06-21 11:30:46|2016-06-21 12:00:46|Source2|       3|           ESE|            Clear|  false|false|   false|   false|   false|  false|  false|     false|  false|false|          false|         false|       false|           Day|           Day|              Day|                  Day|         0.0|          80.1|64.92501173068268|       52.0|       29.96|          10.0|               9.2|0.003434507429829413|      3|  11|\n",
      "|A-42913|2016-06-21 11:59:09|2016-06-21 12:44:09|Source2|       3|            SW|            Clear|  false|false|   false|   false|   false|  false|  false|     false|  false|false|          false|         false|       false|           Day|           Day|              Day|                  Day|         0.0|          79.0|64.92501173068268|       58.0|       29.96|          10.0|               9.2|0.003434507429829413|      3|  11|\n",
      "|A-42915|2016-06-21 12:00:06|2016-06-21 12:42:00|Source2|       3|           ESE|            Clear|  false|false|   false|   false|   false|  false|  false|     false|  false|false|          false|          true|       false|           Day|           Day|              Day|                  Day|         0.0|          80.1|64.92501173068268|       52.0|       29.96|          10.0|               9.2|0.003434507429829413|      3|  12|\n",
      "|A-42916|2016-06-21 12:12:04|2016-06-21 12:57:04|Source2|       2|          CALM|            Clear|  false|false|   false|   false|    true|  false|  false|     false|  false|false|          false|         false|       false|           Day|           Day|              Day|                  Day|         0.0|          88.0|64.92501173068268|       40.0|       29.94|          10.0|3.9225702253550883|0.003434507429829413|      3|  12|\n",
      "|A-42917|2016-06-21 12:11:43|2016-06-21 12:56:43|Source2|       2|           ESE|            Clear|  false|false|    true|   false|   false|  false|  false|     false|  false|false|          false|          true|       false|           Day|           Day|              Day|                  Day|         0.0|          80.1|64.92501173068268|       52.0|       29.96|          10.0|               9.2|0.003434507429829413|      3|  12|\n",
      "|A-42925|2016-06-21 12:18:26|2016-06-21 13:01:00|Source2|       3|           ESE|            Clear|  false|false|   false|   false|   false|  false|  false|     false|  false|false|          false|         false|       false|           Day|           Day|              Day|                  Day|         0.0|          80.1|64.92501173068268|       52.0|       29.96|          10.0|               9.2|0.003434507429829413|      3|  12|\n",
      "|A-42926|2016-06-21 12:20:43|2016-06-21 13:04:00|Source2|       2|             V|            Clear|  false|false|   false|   false|   false|  false|  false|     false|  false|false|          false|         false|       false|           Day|           Day|              Day|                  Day|         0.0|          84.0|64.92501173068268|       49.0|       29.94|          10.0|               3.5|0.003434507429829413|      3|  12|\n",
      "|A-42940|2016-06-21 12:42:25|2016-06-21 13:27:25|Source2|       3|             V|            Clear|  false|false|   false|   false|   false|  false|  false|     false|  false|false|          false|         false|       false|           Day|           Day|              Day|                  Day|         0.0|          84.0|64.92501173068268|       49.0|       29.94|          10.0|               3.5|0.003434507429829413|      3|  12|\n",
      "|A-42941|2016-06-21 13:12:38|2016-06-21 13:57:38|Source2|       2|             V|            Clear|  false|false|   false|   false|   false|  false|  false|     false|  false|false|          false|         false|       false|           Day|           Day|              Day|                  Day|         0.0|          84.0|64.92501173068268|       49.0|       29.94|          10.0|               3.5|0.003434507429829413|      3|  13|\n",
      "|A-42942|2016-06-21 13:07:43|2016-06-21 13:52:43|Source2|       2|             V|            Clear|  false|false|   false|   false|   false|  false|  false|     false|  false|false|          false|         false|       false|           Day|           Day|              Day|                  Day|         0.0|          84.0|64.92501173068268|       49.0|       29.94|          10.0|               3.5|0.003434507429829413|      3|  13|\n",
      "|A-42945|2016-06-21 13:17:18|2016-06-21 14:02:18|Source2|       3|            SW|            Clear|  false|false|   false|   false|   false|  false|  false|     false|  false|false|          false|         false|       false|           Day|           Day|              Day|                  Day|         0.0|          79.0|64.92501173068268|       58.0|       29.96|          10.0|               8.1|0.003434507429829413|      3|  13|\n",
      "|A-42947|2016-06-21 13:18:58|2016-06-21 14:03:58|Source2|       2|           SSE|            Clear|  false|false|   false|   false|    true|  false|  false|     false|  false|false|          false|         false|       false|           Day|           Day|              Day|                  Day|         0.0|          84.0|64.92501173068268|       47.0|       29.94|          10.0|               6.9|0.003434507429829413|      3|  13|\n",
      "|A-42956|2016-06-21 13:41:58|2016-06-21 14:26:58|Source2|       2|           SSE|            Clear|  false|false|   false|   false|   false|  false|  false|     false|  false|false|          false|          true|       false|           Day|           Day|              Day|                  Day|         0.0|          79.0|64.92501173068268|       54.0|       29.96|          10.0|              11.5|0.003434507429829413|      3|  13|\n",
      "|A-42959|2016-06-21 13:44:48|2016-06-21 14:29:48|Source2|       3|           SSE|            Clear|  false|false|   false|   false|   false|  false|  false|     false|  false|false|          false|         false|       false|           Day|           Day|              Day|                  Day|         0.0|          79.0|64.92501173068268|       54.0|       29.96|          10.0|              11.5|0.003434507429829413|      3|  13|\n",
      "|A-42963|2016-06-21 13:52:57|2016-06-21 14:52:57|Source2|       3|           SSE|            Clear|  false|false|   false|   false|   false|  false|   true|     false|   true|false|          false|         false|       false|           Day|           Day|              Day|                  Day|         0.0|          79.0|64.92501173068268|       54.0|       29.96|          10.0|              11.5|0.003434507429829413|      3|  13|\n",
      "|A-42964|2016-06-21 13:56:35|2016-06-21 14:41:35|Source2|       2|           SSE|            Clear|  false|false|   false|   false|   false|  false|  false|     false|  false|false|          false|         false|       false|           Day|           Day|              Day|                  Day|         0.0|          84.0|64.92501173068268|       47.0|       29.94|          10.0|               6.9|0.003434507429829413|      3|  13|\n",
      "+-------+-------------------+-------------------+-------+--------+--------------+-----------------+-------+-----+--------+--------+--------+-------+-------+----------+-------+-----+---------------+--------------+------------+--------------+--------------+-----------------+---------------------+------------+--------------+-----------------+-----------+------------+--------------+------------------+--------------------+-------+----+\n",
      "only showing top 20 rows\n",
      "\n"
     ]
    }
   ],
   "source": [
    "# Constructing ‘Weekday’ and ‘Hour’ Fields \n",
    "\n",
    "# Convert 'Start_Time' to a timestamp\n",
    "df_la_accidents = df_la_accidents.withColumn(\"Start_Time\", F.to_timestamp(df_la_accidents[\"Start_Time\"]))\n",
    "# Extract the weekday and hour into separate columns\n",
    "df_la_accidents = df_la_accidents.withColumn(\"Weekday\", F.dayofweek(df_la_accidents[\"Start_Time\"]))  # Monday=2, Sunday=1\n",
    "df_la_accidents = df_la_accidents.withColumn(\"Hour\", F.hour(df_la_accidents[\"Start_Time\"]))\n",
    "# Show the DataFrame with weekday and hour columns\n",
    "df_la_accidents.show()\n"
   ]
  },
  {
   "cell_type": "code",
   "execution_count": 13,
   "id": "ca4e817a",
   "metadata": {},
   "outputs": [
    {
     "name": "stdout",
     "output_type": "stream",
     "text": [
      "+--------------+-----------------+--------------+-----------------+-----------+-------------------+-------+----+\n",
      "|Wind_Direction|Weather_Condition|Temperature(F)|    Wind_Chill(F)|Humidity(%)|         Start_Time|Weekday|Hour|\n",
      "+--------------+-----------------+--------------+-----------------+-----------+-------------------+-------+----+\n",
      "|             V|            Clear|          82.9|64.92501173068268|       47.0|2016-06-21 10:46:30|      3|  10|\n",
      "|             V|            Clear|          82.9|64.92501173068268|       47.0|2016-06-21 10:49:21|      3|  10|\n",
      "|             V|            Clear|          82.9|64.92501173068268|       47.0|2016-06-21 10:51:45|      3|  10|\n",
      "|             V|            Clear|          82.9|64.92501173068268|       47.0|2016-06-21 10:56:24|      3|  10|\n",
      "|           ESE|            Clear|          80.1|64.92501173068268|       52.0|2016-06-21 11:30:46|      3|  11|\n",
      "|            SW|            Clear|          79.0|64.92501173068268|       58.0|2016-06-21 11:59:09|      3|  11|\n",
      "|           ESE|            Clear|          80.1|64.92501173068268|       52.0|2016-06-21 12:00:06|      3|  12|\n",
      "|          CALM|            Clear|          88.0|64.92501173068268|       40.0|2016-06-21 12:12:04|      3|  12|\n",
      "|           ESE|            Clear|          80.1|64.92501173068268|       52.0|2016-06-21 12:11:43|      3|  12|\n",
      "|           ESE|            Clear|          80.1|64.92501173068268|       52.0|2016-06-21 12:18:26|      3|  12|\n",
      "|             V|            Clear|          84.0|64.92501173068268|       49.0|2016-06-21 12:20:43|      3|  12|\n",
      "|             V|            Clear|          84.0|64.92501173068268|       49.0|2016-06-21 12:42:25|      3|  12|\n",
      "|             V|            Clear|          84.0|64.92501173068268|       49.0|2016-06-21 13:12:38|      3|  13|\n",
      "|             V|            Clear|          84.0|64.92501173068268|       49.0|2016-06-21 13:07:43|      3|  13|\n",
      "|            SW|            Clear|          79.0|64.92501173068268|       58.0|2016-06-21 13:17:18|      3|  13|\n",
      "|           SSE|            Clear|          84.0|64.92501173068268|       47.0|2016-06-21 13:18:58|      3|  13|\n",
      "|           SSE|            Clear|          79.0|64.92501173068268|       54.0|2016-06-21 13:41:58|      3|  13|\n",
      "|           SSE|            Clear|          79.0|64.92501173068268|       54.0|2016-06-21 13:44:48|      3|  13|\n",
      "|           SSE|            Clear|          79.0|64.92501173068268|       54.0|2016-06-21 13:52:57|      3|  13|\n",
      "|           SSE|            Clear|          84.0|64.92501173068268|       47.0|2016-06-21 13:56:35|      3|  13|\n",
      "+--------------+-----------------+--------------+-----------------+-----------+-------------------+-------+----+\n",
      "only showing top 20 rows\n",
      "\n"
     ]
    }
   ],
   "source": [
    "df_la_accidents.select('Wind_Direction', 'Weather_Condition','Temperature(F)', 'Wind_Chill(F)','Humidity(%)',\"Start_Time\",\"Weekday\",\"Hour\").show()"
   ]
  },
  {
   "cell_type": "code",
   "execution_count": 14,
   "id": "1cfeecd6",
   "metadata": {},
   "outputs": [
    {
     "name": "stderr",
     "output_type": "stream",
     "text": [
      "                                                                                \r"
     ]
    },
    {
     "data": {
      "image/png": "[encoded data removed]",
      "text/plain": [
       "<Figure size 576x432 with 1 Axes>"
      ]
     },
     "metadata": {
      "needs_background": "light"
     },
     "output_type": "display_data"
    }
   ],
   "source": [
    "\n",
    "category_attributes = ['Weekday']\n",
    "plt.figure(figsize=(8, 6 * len(category_attributes)))\n",
    "\n",
    "for i, column in enumerate(category_attributes):\n",
    "    plt.subplot(len(category_attributes), 1, i + 1)\n",
    "    ax = plt.gca()\n",
    "    \n",
    "    value_counts = df_la_accidents.groupBy(column).count().orderBy(column).toPandas()\n",
    "    ax.bar([str(i) for i in value_counts[column]], value_counts[\"count\"], color='skyblue')\n",
    "    ax.set_ylabel('Frequency')\n",
    "    ax.set_title(f'Data Distribution for {column}')\n",
    "    \n",
    "plt.tight_layout()\n",
    "plt.show()"
   ]
  },
  {
   "cell_type": "code",
   "execution_count": 15,
   "id": "e6155961",
   "metadata": {},
   "outputs": [
    {
     "name": "stderr",
     "output_type": "stream",
     "text": [
      "\r",
      "[Stage 156:>                                                        (0 + 2) / 2]\r",
      "\r",
      "                                                                                \r"
     ]
    },
    {
     "data": {
      "image/png": "[encoded data removed]",
      "text/plain": [
       "<Figure size 576x432 with 1 Axes>"
      ]
     },
     "metadata": {
      "needs_background": "light"
     },
     "output_type": "display_data"
    }
   ],
   "source": [
    "category_attributes = ['Hour']\n",
    "plt.figure(figsize=(8, 6 * len(category_attributes)))\n",
    "\n",
    "for i, column in enumerate(category_attributes):\n",
    "    plt.subplot(len(category_attributes), 1, i + 1)\n",
    "    ax = plt.gca()\n",
    "    \n",
    "    value_counts = df_la_accidents.groupBy(column).count().orderBy(column).toPandas()\n",
    "    ax.bar([str(i) for i in value_counts[column]], value_counts[\"count\"], color='skyblue')\n",
    "    ax.set_ylabel('Frequency')\n",
    "    ax.set_title(f'Data Distribution for {column}')\n",
    "    \n",
    "plt.tight_layout()\n",
    "plt.show()"
   ]
  },
  {
   "cell_type": "markdown",
   "id": "7aaa729a",
   "metadata": {},
   "source": [
    "## 3.4\tData Integration "
   ]
  },
  {
   "cell_type": "code",
   "execution_count": 2,
   "id": "d9ebbd5e",
   "metadata": {},
   "outputs": [
    {
     "name": "stderr",
     "output_type": "stream",
     "text": [
      "23/10/12 06:44:11 WARN package: Truncated the string representation of a plan since it was too large. This behavior can be adjusted by setting 'spark.sql.debug.maxToStringFields'.\n",
      "                                                                                \r"
     ]
    }
   ],
   "source": [
    "# run in the first part\n",
    "# Load the filtered DataFrames back from CSV files\n",
    "source1_df = spark.read.csv(\"US_Accidents_s1.csv\", header=True)\n",
    "source2_df = spark.read.csv(\"US_Accidents_s2.csv\", header=True)\n",
    "source3_df = spark.read.csv(\"US_Accidents_s3.csv\", header=True)\n",
    "\n",
    "# Data Integration - Append the DataFrames\n",
    "df_la_accidents = source1_df.union(source2_df).union(source3_df)\n",
    "\n",
    "# Show the resulting DataFrame\n",
    "df_la_accidents.show()\n"
   ]
  },
  {
   "cell_type": "code",
   "execution_count": 17,
   "id": "cf60645b",
   "metadata": {},
   "outputs": [
    {
     "name": "stderr",
     "output_type": "stream",
     "text": [
      "                                                                                \r"
     ]
    }
   ],
   "source": [
    "columns_to_drop = [\"ID\", \"Start_Time\", \"End_Time\", \"Source\"]\n",
    "df_la_accidents = df_la_accidents.drop(*columns_to_drop)\n",
    "\n",
    "# Save the preprocessed data as a CSV file\n",
    "df_la_accidents.write.csv(\"LA_Accidents_preprocessed_pyspark.csv\", header=True, mode=\"overwrite\")"
   ]
  },
  {
   "cell_type": "code",
   "execution_count": null,
   "id": "dad308fe",
   "metadata": {},
   "outputs": [],
   "source": []
  }
 ],
 "metadata": {
  "kernelspec": {
   "display_name": "Python 3 (ipykernel)",
   "language": "python",
   "name": "python3"
  },
  "language_info": {
   "codemirror_mode": {
    "name": "ipython",
    "version": 3
   },
   "file_extension": ".py",
   "mimetype": "text/x-python",
   "name": "python",
   "nbconvert_exporter": "python",
   "pygments_lexer": "ipython3",
   "version": "3.10.4"
  }
 },
 "nbformat": 4,
 "nbformat_minor": 5
}
